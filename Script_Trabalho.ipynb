{
 "cells": [
  {
   "cell_type": "code",
   "execution_count": null,
   "metadata": {},
   "outputs": [],
   "source": [
    "import pandas as pd\n",
    "import numpy as np\n",
    "import matplotlib.pyplot as plt\n"
   ]
  },
  {
   "cell_type": "code",
   "execution_count": null,
   "metadata": {},
   "outputs": [],
   "source": [
    "#Importa código dos municípios do IBGE\n",
    "cod_mun_ibge = pd.read_excel('C:/Users/franc/Desktop/Faculdade/Dados/Tabela_codigos_IBGE/RELATORIO_DTB_BRASIL_MUNICIPIO.xls')\n",
    "ibge = cod_mun_ibge[['Nome_UF', 'Nome_Município', 'Código Município Completo']]\n",
    "ibge.head()"
   ]
  },
  {
   "cell_type": "code",
   "execution_count": null,
   "metadata": {},
   "outputs": [],
   "source": [
    "#Importa o dicionário das variáveis da base de conexão de internet\n",
    "dicionario_ibge = pd.read_csv(\"C:/Users/franc/Desktop/Faculdade/Dados/Trabalho ICD/dic_ibge.csv\")\n",
    "dicionario_ibge.head()       "
   ]
  },
  {
   "cell_type": "code",
   "execution_count": null,
   "metadata": {
    "scrolled": true
   },
   "outputs": [],
   "source": [
    "#Importa a base de conexão de internet por município\n",
    "internet_connection = pd.read_csv(\"C:/Users/franc/Desktop/Faculdade/Dados/Trabalho ICD/simet_veloc-2020-12-17-13-00.csv\", \n",
    "                                  sep = ';')\n",
    "internet_connection.head()\n",
    "\n",
    "#DICIONÁRIO SIMET_DATA\n",
    "#- cod_setor: setor censitário\n",
    "#- lat, lon: coordenadas geográficas\n",
    "#- asn: identificador da operadora\n",
    "#- asn_name: nome da operadora\n",
    "#- type: tipo de rede testada (mobile para rede móvel/broadband para banda larga)\n",
    "#- averageTcp: velocidade média, em MB/s\n",
    "#- numDisps: número de dispositivos que compõem a amostra\n",
    "#- raio: raio considerado na região amostrada, em metros.\n",
    "#- tcp_range_<velocidade>: número de dispositivos por faixa de velocidade de download, em MB/s.\n",
    "#- lat_range_<ping>: número de dispositivos por faixa de latência, em milissegundos.\n",
    "#- packLoss_range_<faixa_de_perda>: número de dispositivos por faixa de percentual de perda de pacotes.\n",
    "#- jitDown_range_<faixa_de_jitter>: número de dispositivos por faixa de jitter de download, em milissegundos.\n",
    "#- jitUp_range_<faixa_de_jitter>: número de dispositivos por faixa de jitter de upload, em milissegundos."
   ]
  },
  {
   "cell_type": "code",
   "execution_count": null,
   "metadata": {},
   "outputs": [],
   "source": [
    "#Juntando as bases\n",
    "#Primeiro juntaremos a base de conexão de internet com o dicionário do IBGE\n",
    "\n",
    "internet_connection_2 = internet_connection.merge(dicionario_ibge[['cod_sc', 'cod_mun']], how = \"left\", left_on = 'cod_setor', right_on = 'cod_sc')\n",
    "internet_connection_2.head(7)"
   ]
  },
  {
   "cell_type": "code",
   "execution_count": null,
   "metadata": {
    "scrolled": true
   },
   "outputs": [],
   "source": [
    "internet_connection_2['vel_int'] = internet_connection_2['averageTcp'] * internet_connection_2['numDisps']\n",
    "internet_connection_2 = internet_connection_2.drop(['averageTcp', 'numDisps'], axis = 1)\n",
    "\n",
    "internet_connection_2 = internet_connection_2.groupby('cod_mun').agg({\n",
    "    'vel_int': 'sum',\n",
    "    'asn_name': 'nunique'\n",
    "}).reset_index()\n",
    "\n",
    "internet_connection_2.columns.values[2] = 'Num_operadoras'\n",
    "\n",
    "internet_connection_2.head(7)"
   ]
  },
  {
   "cell_type": "code",
   "execution_count": null,
   "metadata": {},
   "outputs": [],
   "source": [
    "#Importa dados do IDEB por município (anos iniciais)\n",
    "\n",
    "ideb_anos_iniciais = pd.read_excel(\"C:/Users/franc/Desktop/Faculdade/Dados/INEP/Resultados IDEB/divulgacao_anos_iniciais_municipios_2019.xlsx\",\n",
    "                                  sep = \";\", header = [6, 7, 8])\n",
    "\n",
    "\n",
    "for i in range(len(ideb_anos_iniciais.columns.values)):\n",
    "    col = list(ideb_anos_iniciais.columns.values[i])\n",
    "    #Transforma títulos em string\n",
    "    for j in range(3):\n",
    "        if(not(isinstance(col[j], str))):\n",
    "            col[j] = str(col[j])\n",
    "    #Retira títulos vazios\n",
    "    for j in range(3):\n",
    "        if 'Unnamed' in col[j]:\n",
    "            col[j] = \"\"\n",
    "    col = tuple(col)\n",
    "    ideb_anos_iniciais.columns.values[i] = col\n",
    "\n",
    "#Junta os títulos hierárquicos em um só\n",
    "ideb_anos_iniciais.columns = [' '.join(col).strip() for col in ideb_anos_iniciais.columns.values]\n",
    "\n",
    "ideb_anos_iniciais.head(13)"
   ]
  },
  {
   "cell_type": "code",
   "execution_count": null,
   "metadata": {},
   "outputs": [],
   "source": [
    "ideb_anos_iniciais.columns\n",
    "rede_publica = ideb_anos_iniciais['Rede'] == 'Pública'\n",
    "variaveis = ['Código do Município', 'Taxa de Aprovação - 2019  5º',  'Nota SAEB - 2019 Matemática', 'Nota SAEB - 2019 Língua Portuguesa', 'IDEB\\n2019\\n(N x P)']\n",
    "ideb_anos_iniciais = ideb_anos_iniciais[rede_publica][variaveis]\n",
    "novas_colunas = ['Cod_mun', 'Tax_aprov_5', 'SAEB_Mat_anos_iniciais', 'SAEB_port_anos_iniciais', 'IDEB_anos_iniciais']\n",
    "for i in range(len(novas_colunas)):\n",
    "    ideb_anos_iniciais.columns.values[i] = novas_colunas[i]\n",
    "\n",
    "ideb_anos_iniciais.head()"
   ]
  },
  {
   "cell_type": "code",
   "execution_count": null,
   "metadata": {},
   "outputs": [],
   "source": [
    "#Importa dados do IDEB (anos finais)\n",
    "ideb_anos_finais = pd.read_excel(\"C:/Users/franc/Desktop/Faculdade/Dados/INEP/Resultados IDEB/divulgacao_anos_finais_municipios_2019.xlsx\",\n",
    "                                  sep = \";\", header = [6, 7, 8])\n",
    "\n",
    "for i in range(len(ideb_anos_finais.columns.values)):\n",
    "    col = list(ideb_anos_finais.columns.values[i])\n",
    "    #Transforma títulos em string\n",
    "    for j in range(3):\n",
    "        if(not(isinstance(col[j], str))):\n",
    "            col[j] = str(col[j])\n",
    "    #Retira títulos vazios\n",
    "    for j in range(3):\n",
    "        if 'Unnamed' in col[j]:\n",
    "            col[j] = \"\"\n",
    "    col = tuple(col)\n",
    "    ideb_anos_finais.columns.values[i] = col\n",
    "\n",
    "#Junta os títulos hierárquicos em um só\n",
    "ideb_anos_finais.columns = [' '.join(col).strip() for col in ideb_anos_finais.columns.values]\n",
    "#Tira a 1 linha (aba de pesquisa no excel)\n",
    "ideb_anos_finais = ideb_anos_finais.drop(0, axis = 0)\n",
    "\n",
    "ideb_anos_finais.head(13)\n"
   ]
  },
  {
   "cell_type": "code",
   "execution_count": null,
   "metadata": {},
   "outputs": [],
   "source": [
    "ideb_anos_finais.columns\n",
    "rede_publica = ideb_anos_finais['Rede'] == 'Pública'\n",
    "variaveis = ['Código do Município', 'Taxa de Aprovação - 2019  9º', 'Nota SAEB - 2019 Matemática', 'Nota SAEB - 2019 Língua Portuguesa', 'IDEB\\n2019\\n(N x P)']\n",
    "ideb_anos_finais = ideb_anos_finais[rede_publica][variaveis]\n",
    "\n",
    "novas_colunas = ['Cod_mun', 'Aprov_9', 'SAEB_mat_anos_finais', 'SAEB_port_anos_finais', 'IDEB_anos_finais']\n",
    "for i in range(len(novas_colunas)):\n",
    "    ideb_anos_finais.columns.values[i] = novas_colunas[i]\n",
    "ideb_anos_finais.head()\n"
   ]
  },
  {
   "cell_type": "code",
   "execution_count": null,
   "metadata": {
    "scrolled": false
   },
   "outputs": [],
   "source": [
    "#Importa dados do IDEB (ensino médio)\n",
    "ideb_ensino_medio = pd.read_excel(\"C:/Users/franc/Desktop/Faculdade/Dados/INEP/Resultados IDEB/divulgacao_ensino_medio_municipios_2019.xlsx\",\n",
    "                                  sep = \";\", header = [6, 7, 8])\n",
    "\n",
    "for i in range(len(ideb_ensino_medio.columns.values)):\n",
    "    col = list(ideb_ensino_medio.columns.values[i])\n",
    "    #Transforma títulos em string\n",
    "    for j in range(3):\n",
    "        if(not(isinstance(col[j], str))):\n",
    "            col[j] = str(col[j])\n",
    "    #Retira títulos vazios\n",
    "    for j in range(3):\n",
    "        if 'Unnamed' in col[j]:\n",
    "            col[j] = \"\"\n",
    "    col = tuple(col)\n",
    "    ideb_ensino_medio.columns.values[i] = col\n",
    "\n",
    "#Junta os títulos hierárquicos em um só\n",
    "ideb_ensino_medio.columns = [' '.join(col).strip() for col in ideb_ensino_medio.columns.values]\n",
    "#Tira a 1 linha (aba de pesquisa no excel)\n",
    "ideb_ensino_medio = ideb_ensino_medio.drop(0, axis = 0)\n",
    "\n",
    "ideb_ensino_medio.head(13)\n"
   ]
  },
  {
   "cell_type": "code",
   "execution_count": null,
   "metadata": {},
   "outputs": [],
   "source": [
    "ideb_ensino_medio.columns\n",
    "rede_publica = ideb_ensino_medio['Rede'] == 'Pública'\n",
    "variaveis = ['Código do Município', 'Taxa de Aprovação - 2019  Total', 'Nota SAEB - 2019 Matemática', 'Nota SAEB - 2019 Língua Portuguesa', 'IDEB\\n2019\\n(N x P)']\n",
    "ideb_ensino_medio = ideb_ensino_medio[rede_publica][variaveis]\n",
    "\n",
    "novas_colunas = ['Cod_mun', 'Aprov_e_m', 'SAEB_mat_e_m', 'SAEB_port_e_m', 'IDEB_e_m']\n",
    "for i in range(len(novas_colunas)):\n",
    "    ideb_ensino_medio.columns.values[i] = novas_colunas[i]\n",
    "    \n",
    "ideb_ensino_medio.head()\n"
   ]
  },
  {
   "cell_type": "code",
   "execution_count": null,
   "metadata": {},
   "outputs": [],
   "source": [
    "#Importa variáveis de controle para os municípios\n",
    "variaveis_controle = pd.read_csv(\"C:/Users/franc/Desktop/Faculdade/Dados/Trabalho ICD/variaveis_de_controle.csv\",\n",
    "                                sep = ',')\n",
    "variaveis_controle.head()"
   ]
  },
  {
   "cell_type": "code",
   "execution_count": null,
   "metadata": {},
   "outputs": [],
   "source": [
    "#Vamos selecionar variáveis de anos diferentes:\n",
    "#Censo 2010 (% de pobres, taxa de analfabetismo)\n",
    "#DataSUS 2017 (Taxa de mortalidade infantil, % de meninas que tiveram filhos)\n",
    "#RAIS 2016 (PIB per capita)\n",
    "variaveis = ['Territorialidades', 'Esperança de vida ao nascer 2010', 'Taxa de analfabetismo - 15 anos ou mais de idade 2010', '% de pobres 2010', \n",
    "             'Produto Interno Bruto per capita 2016', 'Taxa de mortalidade infantil 2017', '% de meninas de 10 a 14 anos de idade que tiveram filhos 2017']\n",
    "variaveis_controle = variaveis_controle[variaveis].drop(0, axis = 0)\n",
    "colunas_novas = ['Município', 'Exp_vida', 'analfabetismo', 'pob', 'PIBpercap', 'mort_inf', 'meninas_filhos']\n",
    "for i in range(len(colunas_novas)):\n",
    "    variaveis_controle.columns.values[i] = colunas_novas[i]\n",
    "\n",
    "variaveis_controle.head()"
   ]
  },
  {
   "cell_type": "code",
   "execution_count": null,
   "metadata": {},
   "outputs": [],
   "source": [
    "cod_mun_ibge[cod_mun_ibge['Nome_UF'] == 'Goiás'].head()\n",
    "variaveis_controle.shape"
   ]
  },
  {
   "cell_type": "code",
   "execution_count": null,
   "metadata": {},
   "outputs": [],
   "source": [
    "#Tirando o nome dos estados das strings de municípios da base de variáveis de controle\n",
    "\n",
    "for i in range(variaveis_controle.shape[0]):\n",
    "    variaveis_controle.iloc[i,0] = variaveis_controle.iloc[i,0][:(len(variaveis_controle.iloc[i,0]) - 5)]\n",
    "\n",
    "#Dá match com o código do município no IBGE:\n",
    "\n",
    "variaveis_controle = variaveis_controle.merge(cod_mun_ibge, how = 'right', left_on = 'Município', right_on = 'Nome_Município')\n",
    "variaveis_controle = variaveis_controle.drop(['Município', 'Nome_UF', 'Nome_Município'], axis = 1)\n",
    "variaveis_controle.head()"
   ]
  },
  {
   "cell_type": "code",
   "execution_count": null,
   "metadata": {},
   "outputs": [],
   "source": [
    "#Parte 2: Juntando as bases\n"
   ]
  },
  {
   "cell_type": "code",
   "execution_count": null,
   "metadata": {},
   "outputs": [],
   "source": [
    "#Juntando com as bases do IDEB e do IBGE\n",
    "df = internet_connection_2.merge(ideb_anos_iniciais, how = 'left', left_on = 'cod_mun', right_on = 'Cod_mun').merge(ideb_anos_finais, \n",
    "how = 'left', left_on = 'cod_mun', right_on = 'Cod_mun').merge(ideb_ensino_medio, how = 'left', left_on = 'cod_mun', \n",
    "right_on = 'Cod_mun').merge(cod_mun_ibge, how = 'left', left_on = 'cod_mun', right_on = 'Código Município Completo')\n",
    "\n",
    "df = df.drop(['Cod_mun_x', 'Cod_mun_y', 'Cod_mun', 'Código Município Completo'], axis = 1)\n",
    "\n",
    "df.head()"
   ]
  },
  {
   "cell_type": "code",
   "execution_count": null,
   "metadata": {},
   "outputs": [],
   "source": [
    "#Juntando com a base de variáveis de controle\n",
    "df = df.merge(variaveis_controle, how = 'left', left_on = 'cod_mun', right_on = 'Código Município Completo')\n"
   ]
  },
  {
   "cell_type": "code",
   "execution_count": null,
   "metadata": {},
   "outputs": [],
   "source": [
    "#Reorganizando as colunas\n",
    "ordem_colunas = ['Nome_UF', 'cod_mun', 'Nome_Município', 'vel_int', 'Num_operadoras', 'Tax_aprov_5','SAEB_Mat_anos_iniciais', 'SAEB_port_anos_iniciais','IDEB_anos_iniciais', 'Aprov_9', 'SAEB_mat_anos_finais','SAEB_port_anos_finais', 'IDEB_anos_finais', 'Aprov_e_m','SAEB_mat_e_m', 'SAEB_port_e_m', 'IDEB_e_m']\n",
    "df = df[ordem_colunas]\n",
    "df.head()"
   ]
  }
 ],
 "metadata": {
  "kernelspec": {
   "display_name": "Python 3",
   "language": "python",
   "name": "python3"
  },
  "language_info": {
   "codemirror_mode": {
    "name": "ipython",
    "version": 3
   },
   "file_extension": ".py",
   "mimetype": "text/x-python",
   "name": "python",
   "nbconvert_exporter": "python",
   "pygments_lexer": "ipython3",
   "version": "3.8.3"
  }
 },
 "nbformat": 4,
 "nbformat_minor": 4
}
