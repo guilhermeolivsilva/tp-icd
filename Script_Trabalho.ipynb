{
 "cells": [
  {
   "cell_type": "code",
   "execution_count": null,
   "metadata": {},
   "outputs": [],
   "source": [
    "from unidecode import unidecode\n",
    "\n",
    "import matplotlib.pyplot as plt\n",
    "import numpy as np\n",
    "import pandas as pd\n",
    "import seaborn as sns"
   ]
  },
  {
   "cell_type": "markdown",
   "metadata": {},
   "source": [
    "# 1. Importação e junção dos datasets"
   ]
  },
  {
   "cell_type": "markdown",
   "metadata": {},
   "source": [
    "## 1.1. Dados de Internet"
   ]
  },
  {
   "cell_type": "markdown",
   "metadata": {},
   "source": [
    "### SIMET_VELOC\n",
    "- **cod_setor:** setor censitário da região avaliada.\n",
    "- **lat, lon:** coordenadas geográficas.\n",
    "- **asn:** código da operadora.\n",
    "- **asn_name:** nome da operadora.\n",
    "- **type:** tipo de conexão -- *broadband* para banda-larga fixa, *mobile* para banda-larga móvel.\n",
    "- **numDisps:** número de dispositivos que compõem a amostra.\n",
    "- **tcp_range_(velocidade):** número de dispositivos por faixa de velocidade de download, em Mb/s.\n",
    "\n",
    "### DIC_IBGE\n",
    "- **cod_setor:** setor censitário da região.\n",
    "- **cod_ap:** área de ponderação da região.\n",
    "- **cod_mun:** código do município.\n",
    "- **nom_mun:** nome completo do município.\n",
    "- **sig_uf:** sigla da unidade federativa.\n",
    "\n",
    "Os códigos de geolocalização `cod_mun`, `cod_ap` e `cod_setor` são compilados pelo IBGE e disponibilizados na página sobre [Malha de Setores Censitários](https://www.ibge.gov.br/geociencias/organizacao-do-territorio/malhas-territoriais/26565-malhas-de-setores-censitarios-divisoes-intramunicipais.html?=&t=o-que-e)."
   ]
  },
  {
   "cell_type": "code",
   "execution_count": null,
   "metadata": {},
   "outputs": [],
   "source": [
    "def classifica_uf(x):\n",
    "    if x in ['AM', 'RR', 'AP', 'PA', 'TO', 'RO', 'AC']:\n",
    "        return 'NORTE'\n",
    "    if x in ['MA', 'PI', 'CE', 'RN', 'PE', 'PB', 'SE', 'AL', 'BA']:\n",
    "        return 'NORDESTE'\n",
    "    if x in ['MT', 'MS', 'GO', 'DF']:\n",
    "        return 'CENTRO-OESTE'\n",
    "    if x in ['MG', 'SP', 'RJ', 'ES']:\n",
    "        return 'SUDESTE'\n",
    "    if x in ['SC', 'PR', 'RS']:\n",
    "        return 'SUL'"
   ]
  },
  {
   "cell_type": "code",
   "execution_count": null,
   "metadata": {},
   "outputs": [],
   "source": [
    "def soma_tcp_range(df, start, stop):\n",
    "    col_soma = pd.Series(np.zeros(len(df)))\n",
    "    \n",
    "    while start <= stop:\n",
    "        try:\n",
    "            col_soma += df['tcp_range_' + str(start)]\n",
    "        except KeyError:\n",
    "            pass\n",
    "        start += 0.5\n",
    "        \n",
    "    return col_soma"
   ]
  },
  {
   "cell_type": "markdown",
   "metadata": {},
   "source": [
    "### 1.1.1 Importação e geolocalização"
   ]
  },
  {
   "cell_type": "code",
   "execution_count": null,
   "metadata": {},
   "outputs": [],
   "source": [
    "internet_connection = pd.read_parquet('datasets/raw/internet_connection.parquet')\n",
    "display(internet_connection.head())\n",
    "\n",
    "dicionario_ibge = pd.read_parquet('datasets/raw/dicionario_ibge.parquet')\n",
    "display(dicionario_ibge.head())"
   ]
  },
  {
   "cell_type": "code",
   "execution_count": null,
   "metadata": {},
   "outputs": [],
   "source": [
    "dicionario_ibge['nom_mun'] = dicionario_ibge['nom_mun'].apply(lambda x: unidecode(x))\n",
    "dicionario_ibge['regiao'] = dicionario_ibge['sig_uf'].apply(classifica_uf)\n",
    "internet_connection.columns = internet_connection.columns.str.replace(',', '.')\n",
    "internet_connection = internet_connection.rename(columns=dict(\n",
    "    zip(\n",
    "        [x for x in internet_connection.columns if 'tcp_range' in x and '.' not in x],\n",
    "        [x + str('.0') for x in internet_connection.columns if 'tcp_range' in x and '.' not in x]\n",
    "    )\n",
    "))\n",
    "internet_connection = internet_connection.merge(dicionario_ibge, how='inner', on='cod_setor')\n",
    "internet_connection.head()"
   ]
  },
  {
   "cell_type": "markdown",
   "metadata": {},
   "source": [
    "### 1.1.2. Agregação por município\n",
    "Aqui, agrupamos os registros por município e tipo de conexão, e somamos o total de dispositivos por faixa de velocidade (`tcp_range_...`)."
   ]
  },
  {
   "cell_type": "code",
   "execution_count": null,
   "metadata": {},
   "outputs": [],
   "source": [
    "tcp_range_cols = [x for x in internet_connection.columns.tolist() if 'tcp_range' in x]\n",
    "agg_dict = {key: 'sum' for key in tcp_range_cols}\n",
    "agg_dict['asn_name'] = 'nunique'\n",
    "\n",
    "internet_connection_grp = internet_connection.groupby(['cod_mun', 'type', 'nom_mun', 'sig_uf', 'regiao']).agg(agg_dict).reset_index().rename(columns={'asn_name': 'num_operadoras'})\n",
    "internet_connection_grp.head()"
   ]
  },
  {
   "cell_type": "markdown",
   "metadata": {},
   "source": [
    "### 1.1.3. Agregação por faixas amplas de velocidade"
   ]
  },
  {
   "cell_type": "code",
   "execution_count": null,
   "metadata": {},
   "outputs": [],
   "source": [
    "internet_connection_grp['0_a_2_mbs'] = soma_tcp_range(internet_connection_grp, 0, 2)\n",
    "internet_connection_grp['2.5_a_5_mbs'] = soma_tcp_range(internet_connection_grp, 2.5, 5)\n",
    "internet_connection_grp['6_a_10_mbs'] = soma_tcp_range(internet_connection_grp, 6, 10)\n",
    "internet_connection_grp['11_a_15_mbs'] = soma_tcp_range(internet_connection_grp, 11, 15)\n",
    "internet_connection_grp['15_a_25_mbs'] = soma_tcp_range(internet_connection_grp, 16, 25)\n",
    "internet_connection_grp['acima_25_mbs'] = soma_tcp_range(internet_connection_grp, 26, 50)"
   ]
  },
  {
   "cell_type": "code",
   "execution_count": null,
   "metadata": {},
   "outputs": [],
   "source": [
    "internet_connection_grp = internet_connection_grp.drop(columns=[x for x in internet_connection_grp if 'tcp_range' in x])\n",
    "internet_connection_grp.head()"
   ]
  },
  {
   "cell_type": "markdown",
   "metadata": {},
   "source": [
    "## 1.2. Dados de Educação"
   ]
  },
  {
   "cell_type": "markdown",
   "metadata": {},
   "source": [
    "### DIC_IBGE\n",
    "- **cod_setor:** setor censitário da região.\n",
    "- **cod_ap:** área de ponderação da região.\n",
    "- **cod_mun:** código do município.\n",
    "- **nom_mun:** nome completo do município.\n",
    "- **sig_uf:** sigla da unidade federativa.\n",
    "\n",
    "Os códigos de geolocalização `cod_mun`, `cod_ap` e `cod_setor` são compilados pelo IBGE e disponibilizados na página sobre [Malha de Setores Censitários](https://www.ibge.gov.br/geociencias/organizacao-do-territorio/malhas-territoriais/26565-malhas-de-setores-censitarios-divisoes-intramunicipais.html?=&t=o-que-e).\n",
    "Este dataframe é o mesmo utilizado na seção anterior."
   ]
  },
  {
   "cell_type": "code",
   "execution_count": null,
   "metadata": {},
   "outputs": [],
   "source": [
    "def remove_multilevel_index(df):\n",
    "    for i in range(len(df.columns.values)):\n",
    "        col = list(df.columns.values[i])\n",
    "\n",
    "        # Transforma títulos em string\n",
    "        for j in range(3):\n",
    "            col[j] = str(col[j])\n",
    "\n",
    "        # Retira títulos vazios\n",
    "        for j in range(3):\n",
    "            if 'Unnamed' in col[j]:\n",
    "                col[j] = \"\"\n",
    "\n",
    "        col = tuple(col)\n",
    "        df.columns.values[i] = col\n",
    "\n",
    "    # Junta os títulos hierárquicos em um só\n",
    "    df.columns = [' '.join(col).strip() for col in df.columns.values]\n",
    "    \n",
    "    return df"
   ]
  },
  {
   "cell_type": "markdown",
   "metadata": {},
   "source": [
    "### 1.2.1. IDEB para anos iniciais"
   ]
  },
  {
   "cell_type": "code",
   "execution_count": null,
   "metadata": {},
   "outputs": [],
   "source": [
    "dados_ideb_ef_1 = pd.read_excel('datasets/raw/divulgacao_anos_iniciais_municipios_2019.xlsx',\n",
    "                                header = [6, 7, 8])\n",
    "\n",
    "dados_ideb_ef_1 = remove_multilevel_index(dados_ideb_ef_1)\n",
    "dados_ideb_ef_1 = dados_ideb_ef_1[dados_ideb_ef_1['Rede'] == 'Pública'][[\n",
    "    'Código do Município',\n",
    "    'Taxa de Aprovação - 2019  5º',\n",
    "    'Nota SAEB - 2019 Matemática',\n",
    "    'Nota SAEB - 2019 Língua Portuguesa',\n",
    "    'IDEB\\n2019\\n(N x P)'\n",
    "]].rename(columns={\n",
    "    'Código do Município': 'cod_mun',\n",
    "    'Taxa de Aprovação - 2019  5º': 'tx_aprov_ef_1',\n",
    "    'Nota SAEB - 2019 Matemática': 'saeb_mat_ef_1',\n",
    "    'Nota SAEB - 2019 Língua Portuguesa': 'saeb_port_ef_1',\n",
    "    'IDEB\\n2019\\n(N x P)': 'ideb_ef_1'\n",
    "}).reset_index(drop=True)\n",
    "\n",
    "dados_ideb_ef_1.head()"
   ]
  },
  {
   "cell_type": "code",
   "execution_count": null,
   "metadata": {},
   "outputs": [],
   "source": [
    "#Importa dados do IDEB (anos finais)\n",
    "dados_ideb_ef_2 = pd.read_excel('datasets/raw/divulgacao_anos_finais_municipios_2019.xlsx',\n",
    "                                header = [6, 7, 8])\n",
    "\n",
    "dados_ideb_ef_2 = remove_multilevel_index(dados_ideb_ef_2)\n",
    "dados_ideb_ef_2 = dados_ideb_ef_2[dados_ideb_ef_2['Rede'] == 'Pública'][[\n",
    "    'Código do Município',\n",
    "    'Taxa de Aprovação - 2019  9º',\n",
    "    'Nota SAEB - 2019 Matemática',\n",
    "    'Nota SAEB - 2019 Língua Portuguesa',\n",
    "    'IDEB\\n2019\\n(N x P)'\n",
    "]].rename(columns={\n",
    "    'Código do Município': 'cod_mun',\n",
    "    'Taxa de Aprovação - 2019  9º': 'tx_aprov_ef_2',\n",
    "    'Nota SAEB - 2019 Matemática': 'saeb_mat_ef_2',\n",
    "    'Nota SAEB - 2019 Língua Portuguesa': 'saeb_port_ef_2',\n",
    "    'IDEB\\n2019\\n(N x P)': 'ideb_ef_2'\n",
    "}).reset_index(drop=True)\n",
    "\n",
    "dados_ideb_ef_2.head()"
   ]
  },
  {
   "cell_type": "code",
   "execution_count": null,
   "metadata": {},
   "outputs": [],
   "source": [
    "#Importa dados do IDEB (ensino médio)\n",
    "dados_ideb_em = pd.read_excel('datasets/raw/divulgacao_ensino_medio_municipios_2019.xlsx',\n",
    "                              header = [6, 7, 8])\n",
    "\n",
    "dados_ideb_em = remove_multilevel_index(dados_ideb_em)\n",
    "dados_ideb_em = dados_ideb_em[dados_ideb_em['Rede'] == 'Pública'][[\n",
    "    'Código do Município',\n",
    "    'Taxa de Aprovação - 2019  Total',\n",
    "    'Nota SAEB - 2019 Matemática',\n",
    "    'Nota SAEB - 2019 Língua Portuguesa',\n",
    "    'IDEB\\n2019\\n(N x P)'\n",
    "]].rename(columns={\n",
    "    'Código do Município': 'cod_mun',\n",
    "    'Taxa de Aprovação - 2019  Total': 'tx_aprov_em',\n",
    "    'Nota SAEB - 2019 Matemática': 'saeb_mat_em',\n",
    "    'Nota SAEB - 2019 Língua Portuguesa': 'saeb_port_em',\n",
    "    'IDEB\\n2019\\n(N x P)': 'ideb_em'\n",
    "}).reset_index(drop=True)\n",
    "\n",
    "dados_ideb_em.head()"
   ]
  },
  {
   "cell_type": "markdown",
   "metadata": {},
   "source": [
    "## 1.3. Indicadores sociais"
   ]
  },
  {
   "cell_type": "code",
   "execution_count": null,
   "metadata": {},
   "outputs": [],
   "source": [
    "#Importa variáveis de controle para os municípios\n",
    "indicadores_sociais = pd.read_csv(\"datasets/raw/indicadores_sociais.csv\",\n",
    "                                  sep = ',')\n",
    "censo_populacao = pd.read_excel('datasets/raw/pop_censo_2010.xlsx')\n",
    "\n",
    "#Vamos selecionar variáveis de anos diferentes:\n",
    "#Censo 2010 (% de pobres, taxa de analfabetismo)\n",
    "#DataSUS 2017 (Taxa de mortalidade infantil, % de meninas que tiveram filhos)\n",
    "#RAIS 2016 (PIB per capita)\n",
    "indicadores_sociais = indicadores_sociais.merge(censo_populacao, on='Territorialidades', how='inner')\n",
    "indicadores_sociais = indicadores_sociais[[\n",
    "    'Territorialidades',\n",
    "    'População total 2010',\n",
    "    'Esperança de vida ao nascer 2010',\n",
    "    'Taxa de analfabetismo - 15 anos ou mais de idade 2010',\n",
    "    '% de pobres 2010', \n",
    "    'Produto Interno Bruto per capita 2016',\n",
    "    'Taxa de mortalidade infantil 2017',\n",
    "    '% de meninas de 10 a 14 anos de idade que tiveram filhos 2017'\n",
    "]].rename(columns={\n",
    "    'Territorialidades': 'nom_mun',\n",
    "    'População total 2010': 'populacao',\n",
    "    'Esperança de vida ao nascer 2010': 'exp_vida',\n",
    "    'Taxa de analfabetismo - 15 anos ou mais de idade 2010': 'analfabetismo',\n",
    "    '% de pobres 2010': 'tx_pobreza',\n",
    "    'Produto Interno Bruto per capita 2016': 'pib_per_capita',\n",
    "    'Taxa de mortalidade infantil 2017': 'mortalidade_inf',\n",
    "    '% de meninas de 10 a 14 anos de idade que tiveram filhos 2017': 'maternidade_inf'\n",
    "}).reset_index(drop=True)\n",
    "\n",
    "indicadores_sociais['sig_uf'] = indicadores_sociais['nom_mun'].apply(lambda x: str(x)[-3:-1])\n",
    "indicadores_sociais['nom_mun'] = indicadores_sociais['nom_mun'].apply(lambda x: unidecode(str(x)[:-5].upper()))\n",
    "\n",
    "indicadores_sociais.head()"
   ]
  },
  {
   "cell_type": "markdown",
   "metadata": {},
   "source": [
    "### Juntando tudo"
   ]
  },
  {
   "cell_type": "code",
   "execution_count": null,
   "metadata": {},
   "outputs": [],
   "source": [
    "df = dados_ideb_ef_1.merge(dados_ideb_ef_2, on='cod_mun', how='inner')\\\n",
    "                    .merge(dados_ideb_em, on='cod_mun', how='inner')\\\n",
    "                    .merge(dicionario_ibge.drop(columns=['cod_ap', 'cod_setor']).drop_duplicates(), on='cod_mun', how='inner')\\\n",
    "                    .merge(indicadores_sociais, on=['nom_mun', 'sig_uf'], how='inner')\\\n",
    "                    .merge(internet_connection_grp, on=['cod_mun', 'nom_mun', 'sig_uf', 'regiao'], how='inner')\n",
    "\n",
    "df = df.reindex(columns=(\n",
    "    ['cod_mun', 'nom_mun', 'sig_uf', 'regiao'] + list(\n",
    "        [x for x in df.columns.tolist() if x not in ['cod_mun', 'nom_mun', 'sig_uf', 'regiao']]\n",
    "    )\n",
    "))\n",
    "\n",
    "df.to_csv('datasets/dataset_pre_limpeza.csv', index=False)\n",
    "df.head()"
   ]
  },
  {
   "cell_type": "markdown",
   "metadata": {},
   "source": [
    "# 2. Limpeza dos dados"
   ]
  },
  {
   "cell_type": "markdown",
   "metadata": {},
   "source": [
    "## 2.1. Dados de educação"
   ]
  },
  {
   "cell_type": "code",
   "execution_count": null,
   "metadata": {},
   "outputs": [],
   "source": [
    "cols_educacao = [\n",
    "    'tx_aprov_ef_1',\n",
    "    'saeb_mat_ef_1',\n",
    "    'saeb_port_ef_1',\n",
    "    'ideb_ef_1',\n",
    "    'tx_aprov_ef_2',\n",
    "    'saeb_mat_ef_2',\n",
    "    'saeb_port_ef_2',\n",
    "    'ideb_ef_2',\n",
    "    'tx_aprov_em',\n",
    "    'saeb_mat_em',\n",
    "    'saeb_port_em',\n",
    "    'ideb_em'\n",
    "]\n",
    "\n",
    "for col in cols_educacao:\n",
    "    # Padroniza linhas vazias\n",
    "    df[col] = df[col].replace('-', np.nan)\n",
    "    df[col] = df[col].replace('ND', np.nan)\n",
    "    df[col] = df[col].astype(float)"
   ]
  },
  {
   "cell_type": "markdown",
   "metadata": {},
   "source": [
    "## 2.2. Indicadores sociais"
   ]
  },
  {
   "cell_type": "code",
   "execution_count": null,
   "metadata": {},
   "outputs": [],
   "source": [
    "cols_social = [\n",
    "    'populacao',\n",
    "    'exp_vida',\n",
    "    'analfabetismo',\n",
    "    'tx_pobreza',\n",
    "    'pib_per_capita',\n",
    "    'mortalidade_inf',\n",
    "    'maternidade_inf'\n",
    "]\n",
    "\n",
    "for col in cols_social:\n",
    "    # Padroniza linhas vazias\n",
    "    df[col] = df[col].fillna(np.nan)\n",
    "    df[col] = df[col].astype(float)"
   ]
  },
  {
   "cell_type": "markdown",
   "metadata": {},
   "source": [
    "## 2.3. Dados de internet"
   ]
  },
  {
   "cell_type": "code",
   "execution_count": null,
   "metadata": {},
   "outputs": [],
   "source": [
    "cols_internet = [x for x in df.columns.tolist() if 'mbs' in x]\n",
    "\n",
    "for col in cols_internet:\n",
    "    # Padroniza linhas vazias\n",
    "    df[col] = df[col].fillna(0)\n",
    "    df[col] = df[col].astype(float)\n",
    "    \n",
    "    # Normaliza contagem de dispositivos pela população\n",
    "    df[col] = df[col] / df['populacao']\n",
    "    \n",
    "df['num_operadoras'] = df['num_operadoras'].fillna(0).astype(float)"
   ]
  },
  {
   "cell_type": "markdown",
   "metadata": {},
   "source": [
    "## 2.4. Salva o DF limpo para analisar"
   ]
  },
  {
   "cell_type": "code",
   "execution_count": null,
   "metadata": {},
   "outputs": [],
   "source": [
    "df.to_parquet('datasets/dataset_pos_limpeza.parquet', index=False)\n",
    "df.head()"
   ]
  },
  {
   "cell_type": "code",
   "execution_count": null,
   "metadata": {},
   "outputs": [],
   "source": [
    "df = pd.read_parquet('datasets/dataset_pos_limpeza.parquet')"
   ]
  },
  {
   "cell_type": "markdown",
   "metadata": {},
   "source": [
    "# 3. Análise exploratória de dados"
   ]
  },
  {
   "cell_type": "markdown",
   "metadata": {},
   "source": [
    "## 3.1. Dados de educação"
   ]
  },
  {
   "cell_type": "code",
   "execution_count": null,
   "metadata": {},
   "outputs": [],
   "source": [
    "print(u'Dimensões do Dataframe: {}'.format(df.drop_duplicates(subset=cols_educacao).shape))"
   ]
  },
  {
   "cell_type": "markdown",
   "metadata": {},
   "source": [
    "### Visão geral"
   ]
  },
  {
   "cell_type": "markdown",
   "metadata": {},
   "source": [
    "As colunas do conjunto de variáveis de educação são todas numéricas e contínuas. Aqui, cada sufixo indica o nível de educação considerado:\n",
    "\n",
    "| Sufixo  | Nível de educação     | Anos escolares     |\n",
    "| :------ | --------------------- | ------------------ |\n",
    "| `_ef_1` | Ensino Fundamental I  | 1º ao 5º ano       |\n",
    "| `_ef_2` | Ensino Fundamental II | 6º ao 9º ano       |\n",
    "| `_em`   | Ensino Médio          | 1ª, 2ª e 3ª séries |\n",
    "\n",
    "**Taxa de aprovação (Ens. Fund. I, Ens. Fund. II, Ens. Médio):** observações em pontos percentuais, com uma casa decimal, no intervalo [0.0, 100.0].\n",
    "\n",
    "**SAEB:** observações representam a nota média, na [escala SAEB](https://academia.qedu.org.br/prova-brasil/454-2/), que varia de acordo com a disciplina e nível de ensino. A tabela abaixo resume as faixas de valores possíveis.\n",
    "\n",
    "| Nível de ensino       | Língua Portuguesa | Matemática |\n",
    "| :-------------------- | ----------------- | ---------- |\n",
    "| Ensino Fundamental I  | 0 a 350           | 125 a 350  |\n",
    "| Ensino Fundamental II | 200 a 400         | 200 a 425  |\n",
    "| Ensino Médio          | 225 a 425         | 225 a 475  |\n",
    "\n",
    "**Ideb:** observações referem-se ao Índice de Desenvolvimento da Educação Básica e admitem valores entre 0 e 10, com uma casa decimal, para todos os níveis de educação."
   ]
  },
  {
   "cell_type": "code",
   "execution_count": null,
   "metadata": {},
   "outputs": [],
   "source": [
    "df[cols_educacao].drop_duplicates(subset=cols_educacao).describe()"
   ]
  },
  {
   "cell_type": "markdown",
   "metadata": {},
   "source": [
    "### Visualização dos dados"
   ]
  },
  {
   "cell_type": "code",
   "execution_count": null,
   "metadata": {},
   "outputs": [],
   "source": [
    "def histograma_educacao(df, key, title, xlabel, bins=None):\n",
    "    fig, ax = plt.subplots(1, 3, figsize=(17, 5))\n",
    "    \n",
    "    if bins is None:\n",
    "        bins = []\n",
    "        for i in range(3):\n",
    "            bins.append(np.linspace(60, 100, 11))\n",
    "\n",
    "    ax[0].hist(df[key + '_ef_1'], edgecolor='black', bins=bins[0])\n",
    "    ax[0].axvline(df[key + '_ef_1'].mean(), color='red', linestyle='--')\n",
    "    ax[0].set_title(u'Ensino Fundamental I')\n",
    "\n",
    "    ax[1].hist(df[key + '_ef_2'], edgecolor='black', bins=bins[1])\n",
    "    ax[1].axvline(df[key + '_ef_2'].mean(), color='red', linestyle='--')\n",
    "    ax[1].set_title(u'Ensino Fundamental II')\n",
    "\n",
    "    ax[2].hist(df[key + '_em'], edgecolor='black', bins=bins[2])\n",
    "    ax[2].axvline(df[key + '_em'].mean(), color='red', linestyle='--')\n",
    "    ax[2].set_title(u'Ensino Médio')\n",
    "    \n",
    "    if type(xlabel) is list:\n",
    "        for i in range(3):\n",
    "            ax[i].set_xlabel(xlabel[i])\n",
    "            ax[i].set_ylabel(u'Frequência')\n",
    "    else:\n",
    "        for i in range(3):\n",
    "            ax[i].set_xlabel(xlabel)\n",
    "            ax[i].set_ylabel(u'Frequência')\n",
    "        \n",
    "    fig.suptitle(title, fontsize=14)\n",
    "    plt.show()\n",
    "    \n",
    "def histograma_educacao_decil(df, key, decil, title, xlabel):\n",
    "    fig, ax = plt.subplots(1, 3, figsize=(17, 5))\n",
    "    \n",
    "    bins = df['regiao'].unique().tolist()\n",
    "    \n",
    "    if decil > 0:\n",
    "        df_ef_1 = df[df[key + '_ef_1'] >= df[key + '_ef_1'].quantile(decil)]\n",
    "        df_ef_1['regiao'].value_counts().plot(kind='bar', ax=ax[0])\n",
    "        ax[0].set_title(u'Ensino Fundamental I')\n",
    "\n",
    "        df_ef_2 = df[df[key + '_ef_2'] >= df[key + '_ef_2'].quantile(decil)]\n",
    "        df_ef_2['regiao'].value_counts().plot(kind='bar', ax=ax[1])\n",
    "        ax[1].set_title(u'Ensino Fundamental II')\n",
    "\n",
    "        df_em = df[df[key + '_em'] >= df[key + '_em'].quantile(decil)]\n",
    "        df_em['regiao'].value_counts().plot(kind='bar', ax=ax[2])\n",
    "        ax[2].set_title(u'Ensino Médio')\n",
    "        \n",
    "    else:\n",
    "        df_ef_1 = df[df[key + '_ef_1'] <= df[key + '_ef_1'].quantile(-1*decil)]\n",
    "        df_ef_1['regiao'].value_counts().plot(kind='bar', ax=ax[0])\n",
    "        ax[0].set_title(u'Ensino Fundamental I')\n",
    "\n",
    "        df_ef_2 = df[df[key + '_ef_2'] <= df[key + '_ef_2'].quantile(-1*decil)]\n",
    "        df_ef_2['regiao'].value_counts().plot(kind='bar', ax=ax[1])\n",
    "        ax[1].set_title(u'Ensino Fundamental II')\n",
    "\n",
    "        df_em = df[df[key + '_em'] <= df[key + '_em'].quantile(-1*decil)]\n",
    "        df_em['regiao'].value_counts().plot(kind='bar', ax=ax[2])\n",
    "        ax[2].set_title(u'Ensino Médio')\n",
    "    \n",
    "    if type(xlabel) is list:\n",
    "        for i in range(3):\n",
    "            ax[i].set_xlabel(xlabel[i])\n",
    "            ax[i].set_ylabel(u'Frequência')\n",
    "    else:\n",
    "        for i in range(3):\n",
    "            ax[i].set_xlabel(xlabel)\n",
    "            ax[i].set_ylabel(u'Frequência')\n",
    "        \n",
    "    fig.suptitle(title, fontsize=14)\n",
    "    plt.show()"
   ]
  },
  {
   "cell_type": "markdown",
   "metadata": {},
   "source": [
    "#### IDEB"
   ]
  },
  {
   "cell_type": "code",
   "execution_count": null,
   "metadata": {},
   "outputs": [],
   "source": [
    "histograma_educacao(\n",
    "    df=df.drop_duplicates(subset=cols_educacao),\n",
    "    key='ideb',\n",
    "    title=u'IDEB por nível de educação',\n",
    "    xlabel=u'IDEB',\n",
    "    bins=[\n",
    "        np.linspace(0, 10, 21),\n",
    "        np.linspace(0, 10, 21),\n",
    "        np.linspace(0, 10, 21)\n",
    "    ]\n",
    ")\n",
    "\n",
    "histograma_educacao_decil(\n",
    "    df=df.drop_duplicates(subset=cols_educacao),\n",
    "    key='ideb',\n",
    "    decil=0.9,\n",
    "    title=u'Escolas no decil superior (>= 90%) do IDEB',\n",
    "    xlabel=u'Escolas por região'\n",
    ")\n",
    "\n",
    "histograma_educacao_decil(\n",
    "    df=df.drop_duplicates(subset=cols_educacao),\n",
    "    key='ideb',\n",
    "    decil=-0.1,\n",
    "    title=u'Escolas no decil inferior (<= 10%) do IDEB',\n",
    "    xlabel=u'Escolas por região'\n",
    ")"
   ]
  },
  {
   "cell_type": "markdown",
   "metadata": {},
   "source": [
    "#### Taxas de aprovação"
   ]
  },
  {
   "cell_type": "code",
   "execution_count": null,
   "metadata": {},
   "outputs": [],
   "source": [
    "histograma_educacao(\n",
    "    df=df.drop_duplicates(subset=cols_educacao),\n",
    "    key='tx_aprov',\n",
    "    title=u'Distribuição das taxas de aprovação por nível de educação',\n",
    "    xlabel=u'Taxa de aprovação'\n",
    ")"
   ]
  },
  {
   "cell_type": "markdown",
   "metadata": {},
   "source": [
    "#### SAEB - Matemática"
   ]
  },
  {
   "cell_type": "code",
   "execution_count": null,
   "metadata": {},
   "outputs": [],
   "source": [
    "histograma_educacao(\n",
    "    df=df.drop_duplicates(subset=cols_educacao),\n",
    "    key='saeb_mat',\n",
    "    title=u'Rendimento em matemática',\n",
    "    xlabel=[\n",
    "        u'Notas (125-350)',\n",
    "        u'Notas (200-425)',\n",
    "        u'Notas (225-475)'\n",
    "    ],\n",
    "    bins=[\n",
    "        np.linspace(125, 350, 21),\n",
    "        np.linspace(200, 425, 21),\n",
    "        np.linspace(225, 475, 21)\n",
    "    ]\n",
    ")\n",
    "\n",
    "histograma_educacao_decil(\n",
    "    df=df.drop_duplicates(subset=cols_educacao),\n",
    "    key='saeb_mat',\n",
    "    decil=0.9,\n",
    "    title=u'Escolas no decil superior (>= 90%) do SAEB para Matemática',\n",
    "    xlabel=u'Escolas por região'\n",
    ")\n",
    "\n",
    "histograma_educacao_decil(\n",
    "    df=df.drop_duplicates(subset=cols_educacao),\n",
    "    key='saeb_mat',\n",
    "    decil=-0.1,\n",
    "    title=u'Escolas no decil inferior (<= 10%) do SAEB para Matemática',\n",
    "    xlabel=u'Escolas por região'\n",
    ")"
   ]
  },
  {
   "cell_type": "markdown",
   "metadata": {},
   "source": [
    "#### SAEB - Língua Portuguesa"
   ]
  },
  {
   "cell_type": "code",
   "execution_count": null,
   "metadata": {},
   "outputs": [],
   "source": [
    "histograma_educacao(\n",
    "    df=df.drop_duplicates(subset=cols_educacao),\n",
    "    key='saeb_port',\n",
    "    title=u'Rendimento em língua portuguesa',\n",
    "    xlabel=[\n",
    "        u'Notas (0-350)',\n",
    "        u'Notas (200-400)',\n",
    "        u'Notas (225-425)'\n",
    "    ],\n",
    "    bins=[\n",
    "        np.linspace(0, 350, 21),\n",
    "        np.linspace(200, 400, 21),\n",
    "        np.linspace(225, 425, 21)\n",
    "    ]\n",
    ")\n",
    "\n",
    "histograma_educacao_decil(\n",
    "    df=df.drop_duplicates(subset=cols_educacao),\n",
    "    key='saeb_port',\n",
    "    decil=0.9,\n",
    "    title=u'Escolas no decil superior (>= 90%) do SAEB para Língua Portuguesa',\n",
    "    xlabel=u'Escolas por região'\n",
    ")\n",
    "\n",
    "histograma_educacao_decil(\n",
    "    df=df.drop_duplicates(subset=cols_educacao),\n",
    "    key='saeb_port',\n",
    "    decil=-0.1,\n",
    "    title=u'Escolas no decil inferior (<= 10%) do SAEB para Língua Portuguesa',\n",
    "    xlabel=u'Escolas por região'\n",
    ")"
   ]
  },
  {
   "cell_type": "markdown",
   "metadata": {},
   "source": [
    "### Conclusões"
   ]
  },
  {
   "cell_type": "markdown",
   "metadata": {},
   "source": [
    "À exceção do indicador de Taxas de Aprovação, as variáveis observadas tem formato aproximadamente de sino aparentemente bem distribuída ao redor da média – linha pontilhada em vermelho. \n",
    "\n",
    "Como um todo, observamos que:\n",
    "\n",
    "1. Os indicadores *deterioram-se* à medida em que se avança pelos níveis de educação\n",
    "\n",
    "A concentração de pontos desloca-se à esquerda do eixo x entre o Ensino Fundamental I e Ensino Médio.\n",
    "\n",
    "2. Ao observamos as caudas da distribuição por região – isto é, a contagem de escolas por região cujo desempenho seja superior a 90% ou inferior a 10% das demais do país –, notamos que as escolas de maior desempenho estão fortemente concentradas no eixo sul-sudeste, e as de menor desempenho, no eixo norte-nordeste.    \n",
    "\n",
    "Em alguns indicadores, a região norte sequer possui cidades de média suficientemente grande para que se enquadre no decil superior. Isto acontece mais frequentemente ao observarmos os dados referentes ao ensino básico."
   ]
  },
  {
   "cell_type": "markdown",
   "metadata": {},
   "source": [
    "## 3.2. Dados de Internet"
   ]
  },
  {
   "cell_type": "markdown",
   "metadata": {},
   "source": [
    "### Visão geral"
   ]
  },
  {
   "cell_type": "markdown",
   "metadata": {},
   "source": [
    "As variáveis a seguir foram coletadas a partir do mapa do [SIMET](https://simet.nic.br/mapas-app.html). A plataforma disponibiliza estatísticas de testes de velocidade de acesso à Internet para uma pequena região e categoriza os resultados em:\n",
    "\n",
    "1. operadora do serviço\n",
    "2. faixa de velocidade, em Mb/s\n",
    "3. tipo de conexão: `mobile` (redes móveis) ou `broadband` (banda larga fixa)\n",
    "\n",
    "De posse dos dados, agregamos as estatísticas coletadas por município e tipo de conexão, contabilizando o número de operadoras únicas e o total de dispositivos por faixa. Para as variáveis de dispositivos por faixa, ainda normalizamos os resultados pela população, a fim de tornar as regiões comparáveis entre si – isto é, a variável está na unidade *dispositivos na faixa n por habitante*. Assim, a variável `type` é categórica, enquanto que as variáveis `tcp_range_<n>` (`<n>` representa a faixa de velocidade) e `num_operadoras` são numéricas – respectivamente, contínuas e discreta."
   ]
  },
  {
   "cell_type": "code",
   "execution_count": null,
   "metadata": {},
   "outputs": [],
   "source": [
    "df[cols_internet + ['num_operadoras']].drop_duplicates(subset=cols_internet).describe()"
   ]
  },
  {
   "cell_type": "markdown",
   "metadata": {},
   "source": [
    "### Visualização dos dados"
   ]
  },
  {
   "cell_type": "code",
   "execution_count": null,
   "metadata": {},
   "outputs": [],
   "source": [
    "def histograma_internet(df, title, xlabel=u'Região', ylabel=u'Disp./hab.'):    \n",
    "    fig, ax = plt.subplots(6, figsize=(17, 25), constrained_layout=True, sharey=True)\n",
    "    \n",
    "    cols_internet =  {\n",
    "        '0_a_2_mbs': '0 a 2 Mb/s',\n",
    "        '2.5_a_5_mbs': '2.5 a 5 Mb/s',\n",
    "        '6_a_10_mbs': '6 a 10 Mb/s',\n",
    "        '11_a_15_mbs': '11 a 15 Mb/s',\n",
    "        '15_a_25_mbs': '15 a 25 Mb/s',\n",
    "        'acima_25_mbs': '25+ Mb/s'\n",
    "    }\n",
    "    regioes = ['CENTRO-OESTE', 'NORDESTE', 'NORTE', 'SUDESTE', 'SUL']\n",
    "    \n",
    "    i = 0\n",
    "    for element in cols_internet:\n",
    "        ax[i].bar(regioes, df.groupby('regiao')[element].mean())\n",
    "        ax[i].set_xlabel(xlabel)\n",
    "        ax[i].set_ylabel(ylabel)\n",
    "        ax[i].set_title(cols_internet[element])\n",
    "        i += 1\n",
    "    \n",
    "    #fig.tight_layout()\n",
    "    fig.suptitle(title, fontsize=14)\n",
    "    plt.show()"
   ]
  },
  {
   "cell_type": "code",
   "execution_count": null,
   "metadata": {},
   "outputs": [],
   "source": [
    "def distribuicao_dispositivos(df, title, xlabel=u'Região', ylabel=u'Disp./hab.'):    \n",
    "    fig, ax = plt.subplots(5, figsize=(17, 25), constrained_layout=True, sharey=True)\n",
    "    \n",
    "    cols_internet = ['0_a_2_mbs', '2.5_a_5_mbs', '6_a_10_mbs', '11_a_15_mbs', '15_a_25_mbs', 'acima_25_mbs']\n",
    "    cols_internet_labels = ['0 a 2 Mb/s', '2.5 a 5 Mb/s', '6 a 10 Mb/s', '11 a 15 Mb/s', '15 a 25 Mb/s', '25+ Mb/s']\n",
    "    regioes = ['CENTRO-OESTE', 'NORDESTE', 'NORTE', 'SUDESTE', 'SUL']\n",
    "    ind = np.arange(6)\n",
    "    width = 0.4\n",
    "    \n",
    "    i = 0\n",
    "    for regiao in regioes:\n",
    "        ax[i].bar(\n",
    "            ind,\n",
    "            df[(df['regiao']==regiao) & (df['type']=='broadband')][cols_internet].mean(),\n",
    "            width,\n",
    "            label=u'Internet fixa'\n",
    "        )\n",
    "        ax[i].bar(\n",
    "            ind + width,\n",
    "            df[(df['regiao']==regiao) & (df['type']=='mobile')][cols_internet].mean(),\n",
    "            width,\n",
    "            label=u'Internet móvel'\n",
    "        )\n",
    "        ax[i].set_xlabel(xlabel)\n",
    "        ax[i].set_ylabel(ylabel)\n",
    "        ax[i].set_title(regiao)\n",
    "        ax[i].set_xticks(ind + width/2)\n",
    "        ax[i].set_xticklabels(cols_internet_labels)\n",
    "        ax[i].legend()\n",
    "        i += 1\n",
    "    \n",
    "    fig.suptitle(title, fontsize=14)\n",
    "    plt.show()\n",
    "    \n",
    "def distribuicao_operadoras(df, title, xlabel=u'Região', ylabel=u'Operadoras únicas'):\n",
    "    fig, ax = plt.subplots(figsize=(17, 5))\n",
    "    \n",
    "    regioes = ['CENTRO-OESTE', 'NORDESTE', 'NORTE', 'SUDESTE', 'SUL']\n",
    "    \n",
    "    ax.bar(regioes, df.groupby('regiao')['num_operadoras'].mean())\n",
    "    ax.set_xlabel(xlabel)\n",
    "    ax.set_ylabel(ylabel)\n",
    "    \n",
    "    plt.title(title)\n",
    "    plt.show()"
   ]
  },
  {
   "cell_type": "markdown",
   "metadata": {},
   "source": [
    "#### Distribuição de dispositivos por faixa de velocidade"
   ]
  },
  {
   "cell_type": "code",
   "execution_count": null,
   "metadata": {},
   "outputs": [],
   "source": [
    "df.groupby(['regiao', 'type'])[cols_internet].mean().reset_index()"
   ]
  },
  {
   "cell_type": "code",
   "execution_count": null,
   "metadata": {},
   "outputs": [],
   "source": [
    "distribuicao_dispositivos(\n",
    "    df=df,\n",
    "    title='Média municipal de dispositivos/habitante por faixa de velocidade'\n",
    ")"
   ]
  },
  {
   "cell_type": "markdown",
   "metadata": {},
   "source": [
    "#### Distribuição de média de operadoras por região"
   ]
  },
  {
   "cell_type": "code",
   "execution_count": null,
   "metadata": {},
   "outputs": [],
   "source": [
    "distribuicao_operadoras(\n",
    "    df=df,\n",
    "    title=u'Média municipal de prestadoras de serviço de Internet por região'\n",
    ")"
   ]
  },
  {
   "cell_type": "markdown",
   "metadata": {},
   "source": [
    "#### Conclusões"
   ]
  },
  {
   "cell_type": "markdown",
   "metadata": {},
   "source": [
    "Nesta seção, observamos que a distribuição de dispositivos por tipo e faixa de velocidade evidenciam que a banda larga fixa é, em média, mais rápida que as redes móveis; e que a maioria dos dispositivos observados nas faixas mais baixas de velocidade é do tipo rede móvel. Isto corrobora as estimativas publicadas pelas plataformas [Statista](https://www.statista.com/statistics/1135124/brazil-internet-speed/) e [Speedtest](https://www.speedtest.net/global-index/brazil), que afirmam que as redes fixas de fato apresentam desempenho médio superior às redes móveis. Geograficamente, os acessos de velocidade superior estão concentrados nas regiões Sul e Sudeste; esta última região, inclusive, possui aproximadamente o triplo de dispositivos por habitante nas faixas superiores de velocidade (15 a 25, 25+ Mbps) se comparada às regiões Norte e Nordeste.\n",
    "\n",
    "Além disso, estimamos a contagem de operadoras únicas de Internet por região como *proxy* para a infraestrutura de comunicações disponível em cada município. Ao agregarmos em nível regional, novamente nota-se que, caracteristicamente, municípios da região Sudeste possuem mais opções de prestadores de serviço do que municípios de outras regiões – em especial da Norte; entre as demais, as diferenças são menos significativas. Assim, os dados apontam para a possibilidade de que a região Norte esteja aquém das demais em termos de infraestrutura. De fato, considerados os desafios geográficos fisicamente impostos pela região, este seria o resultado esperado."
   ]
  },
  {
   "cell_type": "markdown",
   "metadata": {},
   "source": [
    "## 3.3. Indicadores sociais"
   ]
  },
  {
   "cell_type": "markdown",
   "metadata": {},
   "source": [
    "### Visão geral"
   ]
  },
  {
   "cell_type": "markdown",
   "metadata": {},
   "source": [
    "As colunas do conjunto de indicadores sociais são todas numéricas e contínuas. Suas unidades de medida são\n",
    "\n",
    "| Variável  | Unidade de medida     | Observações     |\n",
    "| :-------- | --------------------- | ------------------ |\n",
    "| `populacao` | Número de indivíduos | Dados do Censo de 2010 |\n",
    "| `exp_vida`  | Média de anos | Esperança de vida ao nascer |\n",
    "| `analfabetismo` | Analfabetos por 1000 habitantes | Pessoas que de 15 anos ou mais que não sabem ler ou escrever ao menos um bilhete simples |\n",
    "| `tx_pobreza` | Percentual da população | Pessoas vivendo com menos de USD 5,5 PPC (paridade de poder de compra) por mês |\n",
    "| `pib_per_capita` | Milhares de BRL por habitante | Em BRL (2016) |\n",
    "| `mortalidade_inf` | Mortalidade de crianças por 1000 habitantes | Considera crianças que morreram antes de completar 1 ano de vida | \n",
    "| `maternidade_inf` | Percentual de meninas que tiveram filhos | Meninas de 10 a 14 anos de idade |"
   ]
  },
  {
   "cell_type": "code",
   "execution_count": null,
   "metadata": {},
   "outputs": [],
   "source": [
    "df[cols_social].drop_duplicates(subset=cols_social).describe()"
   ]
  },
  {
   "cell_type": "markdown",
   "metadata": {},
   "source": [
    "### Visualização dos dados"
   ]
  },
  {
   "cell_type": "code",
   "execution_count": null,
   "metadata": {},
   "outputs": [],
   "source": [
    "def histograma_social(df, key, title, xlabel, ylabel=u'Frequência', legend=None, regional=False, agg_method=None, bins=None):\n",
    "    df = df.dropna()\n",
    "    fig, ax = plt.subplots(figsize=(15, 5))\n",
    "    \n",
    "    if not regional:\n",
    "        if bins is not None:\n",
    "            ax.hist(df[key], edgecolor='black', bins=bins)\n",
    "        else:\n",
    "            ax.hist(df[key], edgecolor='black')\n",
    "        ax.axvline(df[key].mean(), color='red', linestyle='--')\n",
    "    else:\n",
    "        df.groupby('regiao').agg({\n",
    "            key: agg_method\n",
    "        }).plot.bar(ax=ax)\n",
    "        if legend:\n",
    "            ax.legend([legend])\n",
    "        else:\n",
    "            ax.get_legend().remove()\n",
    "    \n",
    "    ax.set_xlabel(xlabel)\n",
    "    ax.set_ylabel(ylabel)\n",
    "        \n",
    "    plt.title(title, fontsize=14)\n",
    "    plt.show()"
   ]
  },
  {
   "cell_type": "markdown",
   "metadata": {},
   "source": [
    "#### População por região"
   ]
  },
  {
   "cell_type": "code",
   "execution_count": null,
   "metadata": {},
   "outputs": [],
   "source": [
    "histograma_social(\n",
    "    df=df[cols_social + ['regiao']].drop_duplicates(),\n",
    "    key='populacao',\n",
    "    xlabel=u'Nota: são considerados apenas municípios com observações na tabela internet_connection',\n",
    "    ylabel=u'Dezenas de milhões de invidíduos',\n",
    "    title=u'População por região do Brasil, em dezenas de milhões de pessoas',\n",
    "    regional=True,\n",
    "    agg_method='sum'\n",
    ")"
   ]
  },
  {
   "cell_type": "markdown",
   "metadata": {},
   "source": [
    "#### Expectativa de vida"
   ]
  },
  {
   "cell_type": "code",
   "execution_count": null,
   "metadata": {},
   "outputs": [],
   "source": [
    "histograma_social(\n",
    "    df=df[cols_social].drop_duplicates(),\n",
    "    key='exp_vida',\n",
    "    xlabel=u'Nota: são considerados apenas municípios com observações na tabela internet_connection',\n",
    "    ylabel=u'Observações',\n",
    "    title=u'Expectativa de vida ao nascer, por faixa de idade'\n",
    ")\n",
    "\n",
    "histograma_social(\n",
    "    df=df[cols_social + ['regiao']].drop_duplicates(),\n",
    "    key='exp_vida',\n",
    "    xlabel=u'Nota: são considerados apenas municípios com observações na tabela internet_connection',\n",
    "    ylabel=u'Anos',\n",
    "    title=u'Expectativa de vida ao nascer, por região',\n",
    "    regional=True,\n",
    "    agg_method=lambda x: np.average(x, weights=df.loc[x.index, 'populacao'])\n",
    ")"
   ]
  },
  {
   "cell_type": "markdown",
   "metadata": {},
   "source": [
    "#### Analfabetismo"
   ]
  },
  {
   "cell_type": "code",
   "execution_count": null,
   "metadata": {},
   "outputs": [],
   "source": [
    "histograma_social(\n",
    "    df=df[cols_social].drop_duplicates(),\n",
    "    key='analfabetismo',\n",
    "    xlabel=u'Nota: são considerados apenas municípios com observações na tabela internet_connection',\n",
    "    ylabel=u'Observações',\n",
    "    title=u'Taxa de analfabetismo, por faixas'\n",
    ")\n",
    "\n",
    "histograma_social(\n",
    "    df=df[cols_social + ['regiao']].drop_duplicates(),\n",
    "    key='analfabetismo',\n",
    "    xlabel=u'Nota: são considerados apenas municípios com observações na tabela internet_connection',\n",
    "    ylabel=u'Taxa (%)',\n",
    "    title=u'Taxa média de analfabetismo por região, ponderada pela população',\n",
    "    regional=True,\n",
    "    agg_method=lambda x: np.average(x, weights=df.loc[x.index, 'populacao'])\n",
    ")"
   ]
  },
  {
   "cell_type": "markdown",
   "metadata": {},
   "source": [
    "#### Taxa de Pobreza"
   ]
  },
  {
   "cell_type": "code",
   "execution_count": null,
   "metadata": {},
   "outputs": [],
   "source": [
    "histograma_social(\n",
    "    df=df[cols_social].drop_duplicates(),\n",
    "    key='tx_pobreza',\n",
    "    xlabel=u'Nota: são considerados apenas municípios com observações na tabela internet_connection',\n",
    "    ylabel=u'Observações',\n",
    "    title=u'Taxa de pobreza, por faixas'\n",
    ")\n",
    "\n",
    "histograma_social(\n",
    "    df=df[cols_social + ['regiao']].drop_duplicates(),\n",
    "    key='tx_pobreza',\n",
    "    xlabel=u'Nota: são considerados apenas municípios com observações na tabela internet_connection',\n",
    "    ylabel=u'Taxa (%)',\n",
    "    title=u'Taxa média de pobreza por região, ponderada pela população',\n",
    "    regional=True,\n",
    "    agg_method=lambda x: np.average(x, weights=df.loc[x.index, 'populacao'])\n",
    ")"
   ]
  },
  {
   "cell_type": "markdown",
   "metadata": {},
   "source": [
    "#### PIB per capita"
   ]
  },
  {
   "cell_type": "code",
   "execution_count": null,
   "metadata": {},
   "outputs": [],
   "source": [
    "histograma_social(\n",
    "    df=df[cols_social].drop_duplicates(),\n",
    "    key='pib_per_capita',\n",
    "    xlabel=u'Nota: são considerados apenas municípios com observações na tabela internet_connection',\n",
    "    ylabel=u'Observações',\n",
    "    title=u'PIB per capita, por faixas de renda',\n",
    "    bins=np.linspace(0, 200, 50)\n",
    ")\n",
    "\n",
    "histograma_social(\n",
    "    df=df[cols_social + ['regiao']].drop_duplicates(),\n",
    "    key='pib_per_capita',\n",
    "    xlabel=u'Nota: são considerados apenas municípios com observações na tabela internet_connection',\n",
    "    ylabel=u'Milhares de BRL',\n",
    "    title=u'PIB per capita médio por região, ponderado pela população',\n",
    "    regional=True,\n",
    "    agg_method=lambda x: np.average(x, weights=df.loc[x.index, 'populacao'])\n",
    ")"
   ]
  },
  {
   "cell_type": "markdown",
   "metadata": {},
   "source": [
    "#### Mortalidade infantil"
   ]
  },
  {
   "cell_type": "code",
   "execution_count": null,
   "metadata": {},
   "outputs": [],
   "source": [
    "histograma_social(\n",
    "    df=df[cols_social].drop_duplicates(),\n",
    "    key='mortalidade_inf',\n",
    "    xlabel=u'Nota: são considerados apenas municípios com observações na tabela internet_connection',\n",
    "    ylabel=u'Observações',\n",
    "    title=u'Mortalidade infantil, por faixas'\n",
    ")\n",
    "\n",
    "histograma_social(\n",
    "    df=df[cols_social + ['regiao']].drop_duplicates(),\n",
    "    key='mortalidade_inf',\n",
    "    xlabel=u'Nota: são considerados apenas municípios com observações na tabela internet_connection',\n",
    "    ylabel=u'Média ponderada de casos/1000 hab.',\n",
    "    title=u'Taxa média de mortalidade infantil por região, ponderada pela população',\n",
    "    regional=True,\n",
    "    agg_method=lambda x: np.average(x, weights=df.loc[x.index, 'populacao'])\n",
    ")"
   ]
  },
  {
   "cell_type": "markdown",
   "metadata": {},
   "source": [
    "#### Gravidez na adolescência"
   ]
  },
  {
   "cell_type": "code",
   "execution_count": null,
   "metadata": {},
   "outputs": [],
   "source": [
    "histograma_social(\n",
    "    df=df[cols_social].drop_duplicates(),\n",
    "    key='maternidade_inf',\n",
    "    xlabel=u'Nota: são considerados apenas municípios com observações na tabela internet_connection',\n",
    "    ylabel=u'Observações',\n",
    "    title=u'Maternidade infantil, por faixas'\n",
    ")\n",
    "\n",
    "histograma_social(\n",
    "    df=df[cols_social + ['regiao']].drop_duplicates(),\n",
    "    key='maternidade_inf',\n",
    "    xlabel=u'Nota: são considerados apenas municípios com observações na tabela internet_connection',\n",
    "    ylabel=u'Média ponderada de casos/1000 hab.',\n",
    "    title=u'Taxa média de maternidade infantil por região, ponderada pela população',\n",
    "    regional=True,\n",
    "    agg_method=lambda x: np.average(x, weights=df.loc[x.index, 'populacao'])\n",
    ")"
   ]
  },
  {
   "cell_type": "markdown",
   "metadata": {},
   "source": [
    "### Conclusões"
   ]
  },
  {
   "cell_type": "markdown",
   "metadata": {},
   "source": [
    "Os indicadores sociais apresentados servirão de variáveis de controle para a regressão. Antes que apresentemos qualificações sobre as regiões, é necessário frisar que os resultados apresentam certo viés que favorece as regiões Sul e Sudeste: como consideramos apenas as cidades que possuam ao menos 1 registro de teste de velocidade – e dada a concentração da infraestrutura de Internet nessa região –, existirão mais observações para cidades pertencentes a este eixo. Assim, os conclusões devem ser interpretadas com cautela.\n",
    "\n",
    "Em termos de indicadores, nota-se que o Sudeste, além de concentrar a maior população considerada, também concentra os melhores resultados em todos os indicadores considerados, e o Sul tem desempenho similar. As regiões Norte e Nordeste, por outro lado, encontram-se na situação oposta: seus resultados são todos inferiores às regiões anteriores. A isto certamente está associada a distribuição de riqueza per capita no país, que está diretamente correlacionada ao bom desempenho nestes indicadores. Como caso atípico ao padrão constatado, temos apenas a expectativa de vida: apesar de todas as disparidades pontuadas, a esperança de vida média é muito similar entre todas as regiões – e a amplitude de observações é menor que a das demais variáveis."
   ]
  },
  {
   "cell_type": "markdown",
   "metadata": {},
   "source": [
    "## 3.4. Correlações entre Internet e Educação"
   ]
  },
  {
   "cell_type": "markdown",
   "metadata": {},
   "source": [
    "Partimos da hipótese de que a maior prevalência de dispositivos em faixas superiores de velocidade de acesso à Internet contribui positivamente para indicadores educacionais, em especial aos que se referem ao Ensino Médio – dada a maior autonomia exigida dos estudantes deste nível. Assim, analisamos a matriz de correlações e constatamos que a relação entre variáveis de acesso à Internet e indicadores educacionais é muito pouco significativa – não há correlação absoluta que supere o patamar de **0.1** entre variáveis destes grupos. De fato, as correlações mais significativas são observadas apenas em variáveis intragrupais, conforme esperado.\n",
    "\n",
    "A seguir, respectivamente, a matriz de correlações e sua representação gráfica."
   ]
  },
  {
   "cell_type": "code",
   "execution_count": null,
   "metadata": {},
   "outputs": [],
   "source": [
    "cols_corr = cols_internet + ['num_operadoras'] + [x for x in cols_educacao if '_em' in x]"
   ]
  },
  {
   "cell_type": "markdown",
   "metadata": {},
   "source": [
    "### Matriz de correlações"
   ]
  },
  {
   "cell_type": "code",
   "execution_count": null,
   "metadata": {},
   "outputs": [],
   "source": [
    "df[cols_corr].corr()"
   ]
  },
  {
   "cell_type": "markdown",
   "metadata": {},
   "source": [
    "#### Visualização da Matriz de Correlações\n",
    "*Nota: os plots de interesse estão entre as linhas 1 a 7, colunas 8 a 11*"
   ]
  },
  {
   "cell_type": "code",
   "execution_count": null,
   "metadata": {},
   "outputs": [],
   "source": [
    "pairplot = sns.pairplot(\n",
    "    df[cols_corr],\n",
    "    diag_kws={'edgecolor':'k'},\n",
    "    plot_kws={'alpha':0.5, 'edgecolor':'k'}\n",
    ")\n",
    "plt.show()"
   ]
  }
 ],
 "metadata": {
  "kernelspec": {
   "display_name": "Python 3",
   "language": "python",
   "name": "python3"
  },
  "language_info": {
   "codemirror_mode": {
    "name": "ipython",
    "version": 3
   },
   "file_extension": ".py",
   "mimetype": "text/x-python",
   "name": "python",
   "nbconvert_exporter": "python",
   "pygments_lexer": "ipython3",
   "version": "3.7.6"
  }
 },
 "nbformat": 4,
 "nbformat_minor": 4
}
