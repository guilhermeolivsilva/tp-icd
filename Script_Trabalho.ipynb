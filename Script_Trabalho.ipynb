{
 "cells": [
  {
   "cell_type": "code",
   "execution_count": null,
   "metadata": {},
   "outputs": [],
   "source": [
    "from unidecode import unidecode\n",
    "\n",
    "import numpy as np\n",
    "import pandas as pd"
   ]
  },
  {
   "cell_type": "markdown",
   "metadata": {},
   "source": [
    "# 1. Importação e junção dos datasets"
   ]
  },
  {
   "cell_type": "markdown",
   "metadata": {},
   "source": [
    "## 1.1. Dados de Internet"
   ]
  },
  {
   "cell_type": "markdown",
   "metadata": {},
   "source": [
    "### SIMET_VELOC\n",
    "- **cod_setor:** setor censitário da região avaliada.\n",
    "- **lat, lon:** coordenadas geográficas.\n",
    "- **asn:** código da operadora.\n",
    "- **asn_name:** nome da operadora.\n",
    "- **type:** tipo de conexão -- *broadband* para banda-larga fixa, *mobile* para banda-larga móvel.\n",
    "- **numDisps:** número de dispositivos que compõem a amostra.\n",
    "- **tcp_range_(velocidade):** número de dispositivos por faixa de velocidade de download, em Mb/s.\n",
    "\n",
    "### DIC_IBGE\n",
    "- **cod_setor:** setor censitário da região.\n",
    "- **cod_ap:** área de ponderação da região.\n",
    "- **cod_mun:** código do município.\n",
    "- **nom_mun:** nome completo do município.\n",
    "- **sig_uf:** sigla da unidade federativa.\n",
    "\n",
    "Os códigos de geolocalização `cod_mun`, `cod_ap` e `cod_setor` são compilados pelo IBGE e disponibilizados na página sobre [Malha de Setores Censitários](https://www.ibge.gov.br/geociencias/organizacao-do-territorio/malhas-territoriais/26565-malhas-de-setores-censitarios-divisoes-intramunicipais.html?=&t=o-que-e)."
   ]
  },
  {
   "cell_type": "markdown",
   "metadata": {},
   "source": [
    "### 1.1.1 Importação e geolocalização"
   ]
  },
  {
   "cell_type": "code",
   "execution_count": null,
   "metadata": {},
   "outputs": [],
   "source": [
    "internet_connection = pd.read_parquet('datasets/raw/internet_connection.parquet')\n",
    "display(internet_connection.head())\n",
    "\n",
    "dicionario_ibge = pd.read_parquet('datasets/raw/dicionario_ibge.parquet')\n",
    "display(dicionario_ibge.head())"
   ]
  },
  {
   "cell_type": "code",
   "execution_count": null,
   "metadata": {},
   "outputs": [],
   "source": [
    "dicionario_ibge['nom_mun'] = dicionario_ibge['nom_mun'].apply(lambda x: unidecode(x))\n",
    "internet_connection = internet_connection.merge(dicionario_ibge, how='inner', on='cod_setor')\n",
    "internet_connection.head()"
   ]
  },
  {
   "cell_type": "markdown",
   "metadata": {},
   "source": [
    "### 1.1.2. Agregação por município\n",
    "Aqui, agrupamos os registros por município e tipo de conexão, e somamos o total de dispositivos por faixa de velocidade (`tcp_range_...`)."
   ]
  },
  {
   "cell_type": "code",
   "execution_count": null,
   "metadata": {},
   "outputs": [],
   "source": [
    "tcp_range_cols = [x for x in internet_connection.columns.tolist() if 'tcp_range' in x]\n",
    "agg_dict = {key: 'sum' for key in tcp_range_cols}\n",
    "agg_dict['asn_name'] = 'nunique'\n",
    "\n",
    "internet_connection_grp = internet_connection.groupby(['cod_mun', 'type', 'nom_mun', 'sig_uf']).agg(agg_dict).reset_index().rename(columns={'asn_name': 'num_operadoras'})\n",
    "internet_connection_grp.head()"
   ]
  },
  {
   "cell_type": "markdown",
   "metadata": {},
   "source": [
    "## 1.2. Dados de Educação"
   ]
  },
  {
   "cell_type": "markdown",
   "metadata": {},
   "source": [
    "### DIC_IBGE\n",
    "- **cod_setor:** setor censitário da região.\n",
    "- **cod_ap:** área de ponderação da região.\n",
    "- **cod_mun:** código do município.\n",
    "- **nom_mun:** nome completo do município.\n",
    "- **sig_uf:** sigla da unidade federativa.\n",
    "\n",
    "Os códigos de geolocalização `cod_mun`, `cod_ap` e `cod_setor` são compilados pelo IBGE e disponibilizados na página sobre [Malha de Setores Censitários](https://www.ibge.gov.br/geociencias/organizacao-do-territorio/malhas-territoriais/26565-malhas-de-setores-censitarios-divisoes-intramunicipais.html?=&t=o-que-e).\n",
    "Este dataframe é o mesmo utilizado na seção anterior."
   ]
  },
  {
   "cell_type": "code",
   "execution_count": null,
   "metadata": {},
   "outputs": [],
   "source": [
    "def remove_multilevel_index(df):\n",
    "    for i in range(len(df.columns.values)):\n",
    "        col = list(df.columns.values[i])\n",
    "\n",
    "        # Transforma títulos em string\n",
    "        for j in range(3):\n",
    "            col[j] = str(col[j])\n",
    "\n",
    "        # Retira títulos vazios\n",
    "        for j in range(3):\n",
    "            if 'Unnamed' in col[j]:\n",
    "                col[j] = \"\"\n",
    "\n",
    "        col = tuple(col)\n",
    "        df.columns.values[i] = col\n",
    "\n",
    "    # Junta os títulos hierárquicos em um só\n",
    "    df.columns = [' '.join(col).strip() for col in df.columns.values]\n",
    "    \n",
    "    return df"
   ]
  },
  {
   "cell_type": "markdown",
   "metadata": {},
   "source": [
    "### 1.2.1. IDEB para anos iniciais"
   ]
  },
  {
   "cell_type": "code",
   "execution_count": null,
   "metadata": {},
   "outputs": [],
   "source": [
    "dados_ideb_ef_1 = pd.read_excel('datasets/raw/divulgacao_anos_iniciais_municipios_2019.xlsx',\n",
    "                                header = [6, 7, 8])\n",
    "\n",
    "dados_ideb_ef_1 = remove_multilevel_index(dados_ideb_ef_1)\n",
    "dados_ideb_ef_1 = dados_ideb_ef_1[dados_ideb_ef_1['Rede'] == 'Pública'][[\n",
    "    'Código do Município',\n",
    "    'Taxa de Aprovação - 2019  5º',\n",
    "    'Nota SAEB - 2019 Matemática',\n",
    "    'Nota SAEB - 2019 Língua Portuguesa',\n",
    "    'IDEB\\n2019\\n(N x P)'\n",
    "]].rename(columns={\n",
    "    'Código do Município': 'cod_mun',\n",
    "    'Taxa de Aprovação - 2019  5º': 'tx_aprov_ef_1',\n",
    "    'Nota SAEB - 2019 Matemática': 'saeb_mat_ef_1',\n",
    "    'Nota SAEB - 2019 Língua Portuguesa': 'saeb_port_ef_1',\n",
    "    'IDEB\\n2019\\n(N x P)': 'ideb_ef_1'\n",
    "}).reset_index(drop=True)\n",
    "\n",
    "dados_ideb_ef_1.head()"
   ]
  },
  {
   "cell_type": "code",
   "execution_count": null,
   "metadata": {},
   "outputs": [],
   "source": [
    "#Importa dados do IDEB (anos finais)\n",
    "dados_ideb_ef_2 = pd.read_excel('datasets/raw/divulgacao_anos_finais_municipios_2019.xlsx',\n",
    "                                header = [6, 7, 8])\n",
    "\n",
    "dados_ideb_ef_2 = remove_multilevel_index(dados_ideb_ef_2)\n",
    "dados_ideb_ef_2 = dados_ideb_ef_2[dados_ideb_ef_2['Rede'] == 'Pública'][[\n",
    "    'Código do Município',\n",
    "    'Taxa de Aprovação - 2019  9º',\n",
    "    'Nota SAEB - 2019 Matemática',\n",
    "    'Nota SAEB - 2019 Língua Portuguesa',\n",
    "    'IDEB\\n2019\\n(N x P)'\n",
    "]].rename(columns={\n",
    "    'Código do Município': 'cod_mun',\n",
    "    'Taxa de Aprovação - 2019  9º': 'tx_aprov_ef_2',\n",
    "    'Nota SAEB - 2019 Matemática': 'saeb_mat_ef_2',\n",
    "    'Nota SAEB - 2019 Língua Portuguesa': 'saeb_port_ef_2',\n",
    "    'IDEB\\n2019\\n(N x P)': 'ideb_ef_2'\n",
    "}).reset_index(drop=True)\n",
    "\n",
    "dados_ideb_ef_2.head()"
   ]
  },
  {
   "cell_type": "code",
   "execution_count": null,
   "metadata": {},
   "outputs": [],
   "source": [
    "#Importa dados do IDEB (ensino médio)\n",
    "dados_ideb_em = pd.read_excel('datasets/raw/divulgacao_ensino_medio_municipios_2019.xlsx',\n",
    "                              header = [6, 7, 8])\n",
    "\n",
    "dados_ideb_em = remove_multilevel_index(dados_ideb_em)\n",
    "dados_ideb_em = dados_ideb_em[dados_ideb_em['Rede'] == 'Pública'][[\n",
    "    'Código do Município',\n",
    "    'Taxa de Aprovação - 2019  Total',\n",
    "    'Nota SAEB - 2019 Matemática',\n",
    "    'Nota SAEB - 2019 Língua Portuguesa',\n",
    "    'IDEB\\n2019\\n(N x P)'\n",
    "]].rename(columns={\n",
    "    'Código do Município': 'cod_mun',\n",
    "    'Taxa de Aprovação - 2019  Total': 'tx_aprov_em',\n",
    "    'Nota SAEB - 2019 Matemática': 'saeb_mat_em',\n",
    "    'Nota SAEB - 2019 Língua Portuguesa': 'saeb_port_em',\n",
    "    'IDEB\\n2019\\n(N x P)': 'ideb_em'\n",
    "}).reset_index(drop=True)\n",
    "\n",
    "dados_ideb_em.head()"
   ]
  },
  {
   "cell_type": "markdown",
   "metadata": {},
   "source": [
    "## 1.3. Indicadores sociais"
   ]
  },
  {
   "cell_type": "code",
   "execution_count": null,
   "metadata": {},
   "outputs": [],
   "source": [
    "#Importa variáveis de controle para os municípios\n",
    "indicadores_sociais = pd.read_csv(\"datasets/raw/indicadores_sociais.csv\",\n",
    "                                  sep = ',')\n",
    "\n",
    "#Vamos selecionar variáveis de anos diferentes:\n",
    "#Censo 2010 (% de pobres, taxa de analfabetismo)\n",
    "#DataSUS 2017 (Taxa de mortalidade infantil, % de meninas que tiveram filhos)\n",
    "#RAIS 2016 (PIB per capita)\n",
    "indicadores_sociais = indicadores_sociais[[\n",
    "    'Territorialidades',\n",
    "    'Esperança de vida ao nascer 2010',\n",
    "    'Taxa de analfabetismo - 15 anos ou mais de idade 2010',\n",
    "    '% de pobres 2010', \n",
    "    'Produto Interno Bruto per capita 2016',\n",
    "    'Taxa de mortalidade infantil 2017',\n",
    "    '% de meninas de 10 a 14 anos de idade que tiveram filhos 2017'\n",
    "]].rename(columns={\n",
    "    'Territorialidades': 'nom_mun',\n",
    "    'Esperança de vida ao nascer 2010': 'exp_vida',\n",
    "    'Taxa de analfabetismo - 15 anos ou mais de idade 2010': 'analfabetismo',\n",
    "    '% de pobres 2010': 'tx_pobreza',\n",
    "    'Produto Interno Bruto per capita 2016': 'pib_per_capita',\n",
    "    'Taxa de mortalidade infantil 2017': 'mortalidade_inf',\n",
    "    '% de meninas de 10 a 14 anos de idade que tiveram filhos 2017': 'maternidade_inf'\n",
    "}).reset_index(drop=True)\n",
    "\n",
    "indicadores_sociais['sig_uf'] = indicadores_sociais['nom_mun'].apply(lambda x: str(x)[-3:-1])\n",
    "indicadores_sociais['nom_mun'] = indicadores_sociais['nom_mun'].apply(lambda x: unidecode(str(x)[:-5].upper()))\n",
    "\n",
    "indicadores_sociais.head()"
   ]
  },
  {
   "cell_type": "markdown",
   "metadata": {},
   "source": [
    "### Juntando tudo"
   ]
  },
  {
   "cell_type": "code",
   "execution_count": null,
   "metadata": {},
   "outputs": [],
   "source": [
    "df = dados_ideb_ef_1.merge(dados_ideb_ef_2, on='cod_mun', how='inner')\\\n",
    "                    .merge(dados_ideb_em, on='cod_mun', how='inner')\\\n",
    "                    .merge(dicionario_ibge.drop(columns=['cod_ap', 'cod_setor']).drop_duplicates(), on='cod_mun', how='inner')\\\n",
    "                    .merge(indicadores_sociais, on=['nom_mun', 'sig_uf'], how='inner')\\\n",
    "                    .merge(internet_connection_grp, on=['cod_mun', 'nom_mun', 'sig_uf'], how='inner')\n",
    "\n",
    "df = df.reindex(columns=(\n",
    "    ['cod_mun', 'nom_mun', 'sig_uf'] + list(\n",
    "        [x for x in df.columns.tolist() if x not in ['cod_mun', 'nom_mun', 'sig_uf']]\n",
    "    )\n",
    "))\n",
    "\n",
    "df.to_csv('datasets/dataset_pre_limpeza.parquet', index=False)\n",
    "df.head()"
   ]
  },
  {
   "cell_type": "markdown",
   "metadata": {},
   "source": [
    "# 2. Limpeza dos dados"
   ]
  },
  {
   "cell_type": "markdown",
   "metadata": {},
   "source": [
    "## 2.1. Dados de educação"
   ]
  },
  {
   "cell_type": "code",
   "execution_count": null,
   "metadata": {},
   "outputs": [],
   "source": [
    "col_list = [\n",
    "    'tx_aprov_ef_1',\n",
    "    'saeb_mat_ef_1',\n",
    "    'saeb_port_ef_1',\n",
    "    'ideb_ef_1',\n",
    "    'tx_aprov_ef_2',\n",
    "    'saeb_mat_ef_2',\n",
    "    'saeb_port_ef_2',\n",
    "    'ideb_ef_2',\n",
    "    'tx_aprov_em',\n",
    "    'saeb_mat_em',\n",
    "    'saeb_port_em',\n",
    "    'ideb_em'\n",
    "]\n",
    "\n",
    "# Padroniza linhas vazias\n",
    "for col in col_list:\n",
    "    df[col] = df[col].replace('-', np.nan)\n",
    "    df[col] = df[col].replace('ND', np.nan)\n",
    "    df[col] = df[col].astype(float)"
   ]
  },
  {
   "cell_type": "markdown",
   "metadata": {},
   "source": [
    "## 2.2. Indicadores sociais"
   ]
  },
  {
   "cell_type": "code",
   "execution_count": null,
   "metadata": {},
   "outputs": [],
   "source": [
    "col_list = [\n",
    "    'exp_vida',\n",
    "    'analfabetismo',\n",
    "    'tx_pobreza',\n",
    "    'pib_per_capita',\n",
    "    'mortalidade_inf',\n",
    "    'maternidade_inf'\n",
    "]\n",
    "\n",
    "# Padroniza linhas vazias\n",
    "for col in col_list:\n",
    "    df[col] = df[col].fillna(np.nan)\n",
    "    df[col] = df[col].astype(float)"
   ]
  },
  {
   "cell_type": "markdown",
   "metadata": {},
   "source": [
    "## 2.3. Dados de internet"
   ]
  },
  {
   "cell_type": "code",
   "execution_count": null,
   "metadata": {},
   "outputs": [],
   "source": [
    "col_list = [x for x in df.columns.tolist() if 'tcp_range' in x]\n",
    "\n",
    "# Padroniza linhas vazias\n",
    "for col in col_list:\n",
    "    df[col] = df[col].fillna(0)\n",
    "    df[col] = df[col].astype(float)"
   ]
  },
  {
   "cell_type": "markdown",
   "metadata": {},
   "source": [
    "## 2.4. Salva o DF limpo para "
   ]
  },
  {
   "cell_type": "code",
   "execution_count": null,
   "metadata": {},
   "outputs": [],
   "source": [
    "df.to_parquet('datasets/dataset_pos_limpeza.parquet', index=False)"
   ]
  }
 ],
 "metadata": {
  "kernelspec": {
   "display_name": "Python 3",
   "language": "python",
   "name": "python3"
  },
  "language_info": {
   "codemirror_mode": {
    "name": "ipython",
    "version": 3
   },
   "file_extension": ".py",
   "mimetype": "text/x-python",
   "name": "python",
   "nbconvert_exporter": "python",
   "pygments_lexer": "ipython3",
   "version": "3.7.6"
  }
 },
 "nbformat": 4,
 "nbformat_minor": 4
}
