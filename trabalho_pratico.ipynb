{
 "cells": [
  {
   "cell_type": "code",
   "execution_count": 4,
   "metadata": {},
   "outputs": [],
   "source": [
    "from lib import dataset_manager, exploratory_analysis, linear_regression"
   ]
  },
  {
   "cell_type": "markdown",
   "metadata": {},
   "source": [
    "# LIXO"
   ]
  },
  {
   "cell_type": "code",
   "execution_count": 10,
   "metadata": {},
   "outputs": [],
   "source": [
    "%load_ext autoreload\n",
    "%autoreload 2"
   ]
  },
  {
   "cell_type": "markdown",
   "metadata": {},
   "source": [
    "# Ficha técnica\n",
    "\n",
    "## Alunos\n",
    "\n",
    "### Francesco Brandão Ferreira de Carli\n",
    "\n",
    "Matrícula: ...\n",
    "\n",
    "Email: ...\n",
    "\n",
    "### Guilherme de Oliveira Silva\n",
    "\n",
    "Matrícula: 2018058490\n",
    "\n",
    "Email: guilhermeoliveiras@ufmg.br\n",
    "\n",
    "## Tema\n",
    "Análise municipal dos impactos de infraestrutura de Internet na taxa de aprovação de alunos de escolas públicas\n",
    "\n",
    "## Apresentação\n",
    "(Link para o vídeo)"
   ]
  },
  {
   "cell_type": "markdown",
   "metadata": {},
   "source": [
    "# Datasets"
   ]
  },
  {
   "cell_type": "markdown",
   "metadata": {},
   "source": [
    "descricao dos datasets"
   ]
  },
  {
   "cell_type": "code",
   "execution_count": 5,
   "metadata": {},
   "outputs": [
    {
     "name": "stdout",
     "output_type": "stream",
     "text": [
      "Loading and cleaning IBGE data...\n",
      "Done\n",
      "Loading and cleaning Internet access data...\n",
      "Done\n",
      "Loading education data...\n",
      "Done\n",
      "Loading social indicators...\n",
      "Done\n"
     ]
    },
    {
     "data": {
      "text/html": [
       "<div>\n",
       "<style scoped>\n",
       "    .dataframe tbody tr th:only-of-type {\n",
       "        vertical-align: middle;\n",
       "    }\n",
       "\n",
       "    .dataframe tbody tr th {\n",
       "        vertical-align: top;\n",
       "    }\n",
       "\n",
       "    .dataframe thead th {\n",
       "        text-align: right;\n",
       "    }\n",
       "</style>\n",
       "<table border=\"1\" class=\"dataframe\">\n",
       "  <thead>\n",
       "    <tr style=\"text-align: right;\">\n",
       "      <th></th>\n",
       "      <th>cod_mun</th>\n",
       "      <th>nom_mun</th>\n",
       "      <th>sig_uf</th>\n",
       "      <th>regiao</th>\n",
       "      <th>tx_aprov_ef_1</th>\n",
       "      <th>saeb_mat_ef_1</th>\n",
       "      <th>saeb_port_ef_1</th>\n",
       "      <th>ideb_ef_1</th>\n",
       "      <th>tx_aprov_ef_2</th>\n",
       "      <th>saeb_mat_ef_2</th>\n",
       "      <th>...</th>\n",
       "      <th>type</th>\n",
       "      <th>num_operadoras</th>\n",
       "      <th>0_a_2_mbs</th>\n",
       "      <th>2.5_a_5_mbs</th>\n",
       "      <th>6_a_10_mbs</th>\n",
       "      <th>11_a_15_mbs</th>\n",
       "      <th>15_a_25_mbs</th>\n",
       "      <th>acima_25_mbs</th>\n",
       "      <th>0_a_10_mbs</th>\n",
       "      <th>acima_10_mbs</th>\n",
       "    </tr>\n",
       "  </thead>\n",
       "  <tbody>\n",
       "    <tr>\n",
       "      <th>0</th>\n",
       "      <td>1100015</td>\n",
       "      <td>ALTA FLORESTA D'OESTE</td>\n",
       "      <td>RO</td>\n",
       "      <td>NORTE</td>\n",
       "      <td>92.4</td>\n",
       "      <td>226.44</td>\n",
       "      <td>204.70</td>\n",
       "      <td>5.7</td>\n",
       "      <td>95.3</td>\n",
       "      <td>270.02</td>\n",
       "      <td>...</td>\n",
       "      <td>broadband</td>\n",
       "      <td>3.0</td>\n",
       "      <td>0.001066</td>\n",
       "      <td>0.000000</td>\n",
       "      <td>0.000000</td>\n",
       "      <td>0.000000</td>\n",
       "      <td>0.000000</td>\n",
       "      <td>0.000902</td>\n",
       "      <td>0.001066</td>\n",
       "      <td>0.000902</td>\n",
       "    </tr>\n",
       "    <tr>\n",
       "      <th>1</th>\n",
       "      <td>1100023</td>\n",
       "      <td>ARIQUEMES</td>\n",
       "      <td>RO</td>\n",
       "      <td>NORTE</td>\n",
       "      <td>88.7</td>\n",
       "      <td>214.18</td>\n",
       "      <td>199.92</td>\n",
       "      <td>5.2</td>\n",
       "      <td>93.7</td>\n",
       "      <td>266.09</td>\n",
       "      <td>...</td>\n",
       "      <td>broadband</td>\n",
       "      <td>7.0</td>\n",
       "      <td>0.000598</td>\n",
       "      <td>0.001040</td>\n",
       "      <td>0.000952</td>\n",
       "      <td>0.000133</td>\n",
       "      <td>0.000697</td>\n",
       "      <td>0.001793</td>\n",
       "      <td>0.002590</td>\n",
       "      <td>0.002623</td>\n",
       "    </tr>\n",
       "    <tr>\n",
       "      <th>2</th>\n",
       "      <td>1100023</td>\n",
       "      <td>ARIQUEMES</td>\n",
       "      <td>RO</td>\n",
       "      <td>NORTE</td>\n",
       "      <td>88.7</td>\n",
       "      <td>214.18</td>\n",
       "      <td>199.92</td>\n",
       "      <td>5.2</td>\n",
       "      <td>93.7</td>\n",
       "      <td>266.09</td>\n",
       "      <td>...</td>\n",
       "      <td>mobile</td>\n",
       "      <td>1.0</td>\n",
       "      <td>0.000000</td>\n",
       "      <td>0.000155</td>\n",
       "      <td>0.000266</td>\n",
       "      <td>0.000354</td>\n",
       "      <td>0.000000</td>\n",
       "      <td>0.000000</td>\n",
       "      <td>0.000421</td>\n",
       "      <td>0.000354</td>\n",
       "    </tr>\n",
       "    <tr>\n",
       "      <th>3</th>\n",
       "      <td>1100049</td>\n",
       "      <td>CACOAL</td>\n",
       "      <td>RO</td>\n",
       "      <td>NORTE</td>\n",
       "      <td>98.0</td>\n",
       "      <td>223.45</td>\n",
       "      <td>209.48</td>\n",
       "      <td>5.8</td>\n",
       "      <td>98.3</td>\n",
       "      <td>267.51</td>\n",
       "      <td>...</td>\n",
       "      <td>broadband</td>\n",
       "      <td>5.0</td>\n",
       "      <td>0.000738</td>\n",
       "      <td>0.000916</td>\n",
       "      <td>0.000000</td>\n",
       "      <td>0.000000</td>\n",
       "      <td>0.000535</td>\n",
       "      <td>0.005396</td>\n",
       "      <td>0.001654</td>\n",
       "      <td>0.005931</td>\n",
       "    </tr>\n",
       "    <tr>\n",
       "      <th>4</th>\n",
       "      <td>1100049</td>\n",
       "      <td>CACOAL</td>\n",
       "      <td>RO</td>\n",
       "      <td>NORTE</td>\n",
       "      <td>98.0</td>\n",
       "      <td>223.45</td>\n",
       "      <td>209.48</td>\n",
       "      <td>5.8</td>\n",
       "      <td>98.3</td>\n",
       "      <td>267.51</td>\n",
       "      <td>...</td>\n",
       "      <td>mobile</td>\n",
       "      <td>3.0</td>\n",
       "      <td>0.000204</td>\n",
       "      <td>0.000407</td>\n",
       "      <td>0.000000</td>\n",
       "      <td>0.000407</td>\n",
       "      <td>0.000000</td>\n",
       "      <td>0.000000</td>\n",
       "      <td>0.000611</td>\n",
       "      <td>0.000407</td>\n",
       "    </tr>\n",
       "  </tbody>\n",
       "</table>\n",
       "<p>5 rows × 33 columns</p>\n",
       "</div>"
      ],
      "text/plain": [
       "   cod_mun                nom_mun sig_uf regiao  tx_aprov_ef_1  saeb_mat_ef_1  \\\n",
       "0  1100015  ALTA FLORESTA D'OESTE     RO  NORTE           92.4         226.44   \n",
       "1  1100023              ARIQUEMES     RO  NORTE           88.7         214.18   \n",
       "2  1100023              ARIQUEMES     RO  NORTE           88.7         214.18   \n",
       "3  1100049                 CACOAL     RO  NORTE           98.0         223.45   \n",
       "4  1100049                 CACOAL     RO  NORTE           98.0         223.45   \n",
       "\n",
       "   saeb_port_ef_1  ideb_ef_1  tx_aprov_ef_2  saeb_mat_ef_2  ...       type  \\\n",
       "0          204.70        5.7           95.3         270.02  ...  broadband   \n",
       "1          199.92        5.2           93.7         266.09  ...  broadband   \n",
       "2          199.92        5.2           93.7         266.09  ...     mobile   \n",
       "3          209.48        5.8           98.3         267.51  ...  broadband   \n",
       "4          209.48        5.8           98.3         267.51  ...     mobile   \n",
       "\n",
       "   num_operadoras  0_a_2_mbs  2.5_a_5_mbs  6_a_10_mbs  11_a_15_mbs  \\\n",
       "0             3.0   0.001066     0.000000    0.000000     0.000000   \n",
       "1             7.0   0.000598     0.001040    0.000952     0.000133   \n",
       "2             1.0   0.000000     0.000155    0.000266     0.000354   \n",
       "3             5.0   0.000738     0.000916    0.000000     0.000000   \n",
       "4             3.0   0.000204     0.000407    0.000000     0.000407   \n",
       "\n",
       "   15_a_25_mbs  acima_25_mbs  0_a_10_mbs  acima_10_mbs  \n",
       "0     0.000000      0.000902    0.001066      0.000902  \n",
       "1     0.000697      0.001793    0.002590      0.002623  \n",
       "2     0.000000      0.000000    0.000421      0.000354  \n",
       "3     0.000535      0.005396    0.001654      0.005931  \n",
       "4     0.000000      0.000000    0.000611      0.000407  \n",
       "\n",
       "[5 rows x 33 columns]"
      ]
     },
     "execution_count": 5,
     "metadata": {},
     "output_type": "execute_result"
    }
   ],
   "source": [
    "dataset = dataset_manager.get_working_dataset()\n",
    "dataset.head()"
   ]
  },
  {
   "cell_type": "markdown",
   "metadata": {},
   "source": [
    "# Análise exploratória"
   ]
  },
  {
   "cell_type": "markdown",
   "metadata": {},
   "source": [
    "## Dados de acesso à Internet"
   ]
  },
  {
   "cell_type": "markdown",
   "metadata": {},
   "source": [
    "### Visão geral\n",
    "\n",
    "As variáveis a seguir foram coletadas a partir do mapa do [SIMET](https://simet.nic.br/mapas-app.html). A plataforma disponibiliza estatísticas de testes de velocidade de acesso à Internet para uma pequena região e categoriza os resultados em:\n",
    "\n",
    "1. operadora do serviço\n",
    "2. faixa de velocidade, em Mb/s\n",
    "3. tipo de conexão: `mobile` (redes móveis) ou `broadband` (banda larga fixa)\n",
    "\n",
    "De posse dos dados, agregamos as estatísticas coletadas por município e tipo de conexão, contabilizando o número de operadoras únicas e o total de dispositivos por faixa. Para as variáveis de dispositivos por faixa, ainda normalizamos os resultados pela população, a fim de tornar as regiões comparáveis entre si – isto é, a variável está na unidade *dispositivos na faixa n por habitante*. Assim, a variável `type` é categórica, enquanto que as variáveis `tcp_range_<n>` (`<n>` representa a faixa de velocidade) e `num_operadoras` são numéricas – respectivamente, contínuas e discreta."
   ]
  },
  {
   "cell_type": "code",
   "execution_count": 6,
   "metadata": {},
   "outputs": [
    {
     "data": {
      "text/html": [
       "<div>\n",
       "<style scoped>\n",
       "    .dataframe tbody tr th:only-of-type {\n",
       "        vertical-align: middle;\n",
       "    }\n",
       "\n",
       "    .dataframe tbody tr th {\n",
       "        vertical-align: top;\n",
       "    }\n",
       "\n",
       "    .dataframe thead th {\n",
       "        text-align: right;\n",
       "    }\n",
       "</style>\n",
       "<table border=\"1\" class=\"dataframe\">\n",
       "  <thead>\n",
       "    <tr style=\"text-align: right;\">\n",
       "      <th></th>\n",
       "      <th>0_a_2_mbs</th>\n",
       "      <th>2.5_a_5_mbs</th>\n",
       "      <th>6_a_10_mbs</th>\n",
       "      <th>11_a_15_mbs</th>\n",
       "      <th>15_a_25_mbs</th>\n",
       "      <th>acima_25_mbs</th>\n",
       "      <th>0_a_10_mbs</th>\n",
       "      <th>acima_10_mbs</th>\n",
       "    </tr>\n",
       "  </thead>\n",
       "  <tbody>\n",
       "    <tr>\n",
       "      <th>count</th>\n",
       "      <td>4843.000000</td>\n",
       "      <td>4843.000000</td>\n",
       "      <td>4843.000000</td>\n",
       "      <td>4843.000000</td>\n",
       "      <td>4843.000000</td>\n",
       "      <td>4843.000000</td>\n",
       "      <td>4843.000000</td>\n",
       "      <td>4843.000000</td>\n",
       "    </tr>\n",
       "    <tr>\n",
       "      <th>mean</th>\n",
       "      <td>0.000903</td>\n",
       "      <td>0.000351</td>\n",
       "      <td>0.000555</td>\n",
       "      <td>0.000636</td>\n",
       "      <td>0.000800</td>\n",
       "      <td>0.001963</td>\n",
       "      <td>0.001829</td>\n",
       "      <td>0.003399</td>\n",
       "    </tr>\n",
       "    <tr>\n",
       "      <th>std</th>\n",
       "      <td>0.001383</td>\n",
       "      <td>0.000762</td>\n",
       "      <td>0.001185</td>\n",
       "      <td>0.001200</td>\n",
       "      <td>0.001680</td>\n",
       "      <td>0.004819</td>\n",
       "      <td>0.002605</td>\n",
       "      <td>0.006783</td>\n",
       "    </tr>\n",
       "    <tr>\n",
       "      <th>min</th>\n",
       "      <td>0.000000</td>\n",
       "      <td>0.000000</td>\n",
       "      <td>0.000000</td>\n",
       "      <td>0.000000</td>\n",
       "      <td>0.000000</td>\n",
       "      <td>0.000000</td>\n",
       "      <td>0.000000</td>\n",
       "      <td>0.000000</td>\n",
       "    </tr>\n",
       "    <tr>\n",
       "      <th>25%</th>\n",
       "      <td>0.000000</td>\n",
       "      <td>0.000000</td>\n",
       "      <td>0.000000</td>\n",
       "      <td>0.000000</td>\n",
       "      <td>0.000000</td>\n",
       "      <td>0.000000</td>\n",
       "      <td>0.000228</td>\n",
       "      <td>0.000000</td>\n",
       "    </tr>\n",
       "    <tr>\n",
       "      <th>50%</th>\n",
       "      <td>0.000412</td>\n",
       "      <td>0.000000</td>\n",
       "      <td>0.000000</td>\n",
       "      <td>0.000000</td>\n",
       "      <td>0.000000</td>\n",
       "      <td>0.000000</td>\n",
       "      <td>0.001053</td>\n",
       "      <td>0.001216</td>\n",
       "    </tr>\n",
       "    <tr>\n",
       "      <th>75%</th>\n",
       "      <td>0.001291</td>\n",
       "      <td>0.000397</td>\n",
       "      <td>0.000714</td>\n",
       "      <td>0.000891</td>\n",
       "      <td>0.000990</td>\n",
       "      <td>0.001991</td>\n",
       "      <td>0.002328</td>\n",
       "      <td>0.003602</td>\n",
       "    </tr>\n",
       "    <tr>\n",
       "      <th>max</th>\n",
       "      <td>0.018041</td>\n",
       "      <td>0.012561</td>\n",
       "      <td>0.027686</td>\n",
       "      <td>0.016920</td>\n",
       "      <td>0.019868</td>\n",
       "      <td>0.084960</td>\n",
       "      <td>0.032720</td>\n",
       "      <td>0.099061</td>\n",
       "    </tr>\n",
       "  </tbody>\n",
       "</table>\n",
       "</div>"
      ],
      "text/plain": [
       "         0_a_2_mbs  2.5_a_5_mbs   6_a_10_mbs  11_a_15_mbs  15_a_25_mbs  \\\n",
       "count  4843.000000  4843.000000  4843.000000  4843.000000  4843.000000   \n",
       "mean      0.000903     0.000351     0.000555     0.000636     0.000800   \n",
       "std       0.001383     0.000762     0.001185     0.001200     0.001680   \n",
       "min       0.000000     0.000000     0.000000     0.000000     0.000000   \n",
       "25%       0.000000     0.000000     0.000000     0.000000     0.000000   \n",
       "50%       0.000412     0.000000     0.000000     0.000000     0.000000   \n",
       "75%       0.001291     0.000397     0.000714     0.000891     0.000990   \n",
       "max       0.018041     0.012561     0.027686     0.016920     0.019868   \n",
       "\n",
       "       acima_25_mbs   0_a_10_mbs  acima_10_mbs  \n",
       "count   4843.000000  4843.000000   4843.000000  \n",
       "mean       0.001963     0.001829      0.003399  \n",
       "std        0.004819     0.002605      0.006783  \n",
       "min        0.000000     0.000000      0.000000  \n",
       "25%        0.000000     0.000228      0.000000  \n",
       "50%        0.000000     0.001053      0.001216  \n",
       "75%        0.001991     0.002328      0.003602  \n",
       "max        0.084960     0.032720      0.099061  "
      ]
     },
     "metadata": {},
     "output_type": "display_data"
    }
   ],
   "source": [
    "exploratory_analysis.get_dataset_description(dataset, 'internet')"
   ]
  },
  {
   "cell_type": "markdown",
   "metadata": {},
   "source": [
    "### Conclusões - Internet\n",
    "\n",
    "Nesta seção, observamos que a distribuição de dispositivos por tipo e faixa de velocidade evidenciam que a banda larga fixa é, em média, mais rápida que as redes móveis; e que a maioria dos dispositivos observados nas faixas mais baixas de velocidade é do tipo rede móvel. Isto corrobora as estimativas publicadas pelas plataformas [Statista](https://www.statista.com/statistics/1135124/brazil-internet-speed/) e [Speedtest](https://www.speedtest.net/global-index/brazil), que afirmam que as redes fixas de fato apresentam desempenho médio superior às redes móveis. Geograficamente, os acessos de velocidade superior estão concentrados nas regiões Sul e Sudeste; esta última região, inclusive, possui aproximadamente o triplo de dispositivos por habitante nas faixas superiores de velocidade (15 a 25, 25+ Mbps) se comparada às regiões Norte e Nordeste.\n",
    "\n",
    "Além disso, estimamos a contagem de operadoras únicas de Internet por região como *proxy* para a infraestrutura de comunicações disponível em cada município. Ao agregarmos em nível regional, novamente nota-se que, caracteristicamente, municípios da região Sudeste possuem mais opções de prestadores de serviço do que municípios de outras regiões – em especial da Norte; entre as demais, as diferenças são menos significativas. Assim, os dados apontam para a possibilidade de que a região Norte esteja aquém das demais em termos de infraestrutura. De fato, considerados os desafios geográficos fisicamente impostos pela região, este seria o resultado esperado.\n",
    "\n",
    "**Os gráficos utilizados na análise estão disponíveis no [Apêndice B.1](#1.-Dados-de-Internet)**"
   ]
  },
  {
   "cell_type": "markdown",
   "metadata": {},
   "source": [
    "## Dados de educação\n",
    "\n",
    "### Visão geral\n",
    "\n",
    "As colunas do conjunto de variáveis de educação são todas numéricas e contínuas. Aqui, cada sufixo indica o nível de educação considerado:\n",
    "\n",
    "| Sufixo  | Nível de educação     | Anos escolares     |\n",
    "| :------ | --------------------- | ------------------ |\n",
    "| `_ef_1` | Ensino Fundamental I  | 1º ao 5º ano       |\n",
    "| `_ef_2` | Ensino Fundamental II | 6º ao 9º ano       |\n",
    "| `_em`   | Ensino Médio          | 1ª, 2ª e 3ª séries |\n",
    "\n",
    "**Taxa de aprovação (Ens. Fund. I, Ens. Fund. II, Ens. Médio):** observações em pontos percentuais, com uma casa decimal, no intervalo [0.0, 100.0].\n",
    "\n",
    "**SAEB:** observações representam a nota média, na [escala SAEB](https://academia.qedu.org.br/prova-brasil/454-2/), que varia de acordo com a disciplina e nível de ensino. A tabela abaixo resume as faixas de valores possíveis.\n",
    "\n",
    "| Nível de ensino       | Língua Portuguesa | Matemática |\n",
    "| :-------------------- | ----------------- | ---------- |\n",
    "| Ensino Fundamental I  | 0 a 350           | 125 a 350  |\n",
    "| Ensino Fundamental II | 200 a 400         | 200 a 425  |\n",
    "| Ensino Médio          | 225 a 425         | 225 a 475  |\n",
    "\n",
    "**Ideb:** observações referem-se ao Índice de Desenvolvimento da Educação Básica e admitem valores entre 0 e 10, com uma casa decimal, para todos os níveis de educação."
   ]
  },
  {
   "cell_type": "code",
   "execution_count": 11,
   "metadata": {},
   "outputs": [
    {
     "data": {
      "text/html": [
       "<div>\n",
       "<style scoped>\n",
       "    .dataframe tbody tr th:only-of-type {\n",
       "        vertical-align: middle;\n",
       "    }\n",
       "\n",
       "    .dataframe tbody tr th {\n",
       "        vertical-align: top;\n",
       "    }\n",
       "\n",
       "    .dataframe thead th {\n",
       "        text-align: right;\n",
       "    }\n",
       "</style>\n",
       "<table border=\"1\" class=\"dataframe\">\n",
       "  <thead>\n",
       "    <tr style=\"text-align: right;\">\n",
       "      <th></th>\n",
       "      <th>tx_aprov_ef_1</th>\n",
       "      <th>saeb_mat_ef_1</th>\n",
       "      <th>saeb_port_ef_1</th>\n",
       "      <th>ideb_ef_1</th>\n",
       "      <th>tx_aprov_ef_2</th>\n",
       "      <th>saeb_mat_ef_2</th>\n",
       "      <th>saeb_port_ef_2</th>\n",
       "      <th>ideb_ef_2</th>\n",
       "      <th>tx_aprov_em</th>\n",
       "      <th>saeb_mat_em</th>\n",
       "      <th>saeb_port_em</th>\n",
       "      <th>ideb_em</th>\n",
       "    </tr>\n",
       "  </thead>\n",
       "  <tbody>\n",
       "    <tr>\n",
       "      <th>count</th>\n",
       "      <td>3503.000000</td>\n",
       "      <td>3471.000000</td>\n",
       "      <td>3471.000000</td>\n",
       "      <td>3471.000000</td>\n",
       "      <td>3513.000000</td>\n",
       "      <td>3421.000000</td>\n",
       "      <td>3421.000000</td>\n",
       "      <td>3421.000000</td>\n",
       "      <td>3510.00000</td>\n",
       "      <td>3149.000000</td>\n",
       "      <td>3149.000000</td>\n",
       "      <td>3149.000000</td>\n",
       "    </tr>\n",
       "    <tr>\n",
       "      <th>mean</th>\n",
       "      <td>94.396717</td>\n",
       "      <td>225.827035</td>\n",
       "      <td>211.697560</td>\n",
       "      <td>5.817776</td>\n",
       "      <td>91.869912</td>\n",
       "      <td>258.889977</td>\n",
       "      <td>255.133213</td>\n",
       "      <td>4.661444</td>\n",
       "      <td>86.08339</td>\n",
       "      <td>274.558263</td>\n",
       "      <td>274.494287</td>\n",
       "      <td>4.070117</td>\n",
       "    </tr>\n",
       "    <tr>\n",
       "      <th>std</th>\n",
       "      <td>6.070335</td>\n",
       "      <td>22.068236</td>\n",
       "      <td>19.906565</td>\n",
       "      <td>0.912929</td>\n",
       "      <td>6.113734</td>\n",
       "      <td>17.742040</td>\n",
       "      <td>15.272435</td>\n",
       "      <td>0.714934</td>\n",
       "      <td>8.70051</td>\n",
       "      <td>19.473577</td>\n",
       "      <td>16.398680</td>\n",
       "      <td>0.640029</td>\n",
       "    </tr>\n",
       "    <tr>\n",
       "      <th>min</th>\n",
       "      <td>55.900000</td>\n",
       "      <td>159.770000</td>\n",
       "      <td>147.290000</td>\n",
       "      <td>3.300000</td>\n",
       "      <td>52.200000</td>\n",
       "      <td>206.150000</td>\n",
       "      <td>204.260000</td>\n",
       "      <td>2.300000</td>\n",
       "      <td>53.40000</td>\n",
       "      <td>210.860000</td>\n",
       "      <td>221.100000</td>\n",
       "      <td>2.000000</td>\n",
       "    </tr>\n",
       "    <tr>\n",
       "      <th>25%</th>\n",
       "      <td>91.300000</td>\n",
       "      <td>209.910000</td>\n",
       "      <td>197.640000</td>\n",
       "      <td>5.100000</td>\n",
       "      <td>88.400000</td>\n",
       "      <td>247.030000</td>\n",
       "      <td>245.090000</td>\n",
       "      <td>4.200000</td>\n",
       "      <td>80.50000</td>\n",
       "      <td>261.700000</td>\n",
       "      <td>263.690000</td>\n",
       "      <td>3.600000</td>\n",
       "    </tr>\n",
       "    <tr>\n",
       "      <th>50%</th>\n",
       "      <td>96.500000</td>\n",
       "      <td>226.740000</td>\n",
       "      <td>214.560000</td>\n",
       "      <td>5.900000</td>\n",
       "      <td>93.000000</td>\n",
       "      <td>259.490000</td>\n",
       "      <td>256.240000</td>\n",
       "      <td>4.700000</td>\n",
       "      <td>87.30000</td>\n",
       "      <td>275.940000</td>\n",
       "      <td>276.170000</td>\n",
       "      <td>4.200000</td>\n",
       "    </tr>\n",
       "    <tr>\n",
       "      <th>75%</th>\n",
       "      <td>99.200000</td>\n",
       "      <td>241.820000</td>\n",
       "      <td>226.445000</td>\n",
       "      <td>6.500000</td>\n",
       "      <td>96.400000</td>\n",
       "      <td>270.360000</td>\n",
       "      <td>265.520000</td>\n",
       "      <td>5.200000</td>\n",
       "      <td>93.20000</td>\n",
       "      <td>287.660000</td>\n",
       "      <td>286.030000</td>\n",
       "      <td>4.600000</td>\n",
       "    </tr>\n",
       "    <tr>\n",
       "      <th>max</th>\n",
       "      <td>100.000000</td>\n",
       "      <td>319.480000</td>\n",
       "      <td>291.330000</td>\n",
       "      <td>9.400000</td>\n",
       "      <td>100.000000</td>\n",
       "      <td>349.210000</td>\n",
       "      <td>315.360000</td>\n",
       "      <td>7.700000</td>\n",
       "      <td>100.00000</td>\n",
       "      <td>342.270000</td>\n",
       "      <td>322.840000</td>\n",
       "      <td>5.800000</td>\n",
       "    </tr>\n",
       "  </tbody>\n",
       "</table>\n",
       "</div>"
      ],
      "text/plain": [
       "       tx_aprov_ef_1  saeb_mat_ef_1  saeb_port_ef_1    ideb_ef_1  \\\n",
       "count    3503.000000    3471.000000     3471.000000  3471.000000   \n",
       "mean       94.396717     225.827035      211.697560     5.817776   \n",
       "std         6.070335      22.068236       19.906565     0.912929   \n",
       "min        55.900000     159.770000      147.290000     3.300000   \n",
       "25%        91.300000     209.910000      197.640000     5.100000   \n",
       "50%        96.500000     226.740000      214.560000     5.900000   \n",
       "75%        99.200000     241.820000      226.445000     6.500000   \n",
       "max       100.000000     319.480000      291.330000     9.400000   \n",
       "\n",
       "       tx_aprov_ef_2  saeb_mat_ef_2  saeb_port_ef_2    ideb_ef_2  tx_aprov_em  \\\n",
       "count    3513.000000    3421.000000     3421.000000  3421.000000   3510.00000   \n",
       "mean       91.869912     258.889977      255.133213     4.661444     86.08339   \n",
       "std         6.113734      17.742040       15.272435     0.714934      8.70051   \n",
       "min        52.200000     206.150000      204.260000     2.300000     53.40000   \n",
       "25%        88.400000     247.030000      245.090000     4.200000     80.50000   \n",
       "50%        93.000000     259.490000      256.240000     4.700000     87.30000   \n",
       "75%        96.400000     270.360000      265.520000     5.200000     93.20000   \n",
       "max       100.000000     349.210000      315.360000     7.700000    100.00000   \n",
       "\n",
       "       saeb_mat_em  saeb_port_em      ideb_em  \n",
       "count  3149.000000   3149.000000  3149.000000  \n",
       "mean    274.558263    274.494287     4.070117  \n",
       "std      19.473577     16.398680     0.640029  \n",
       "min     210.860000    221.100000     2.000000  \n",
       "25%     261.700000    263.690000     3.600000  \n",
       "50%     275.940000    276.170000     4.200000  \n",
       "75%     287.660000    286.030000     4.600000  \n",
       "max     342.270000    322.840000     5.800000  "
      ]
     },
     "metadata": {},
     "output_type": "display_data"
    }
   ],
   "source": [
    "exploratory_analysis.get_dataset_description(dataset, 'education')"
   ]
  },
  {
   "cell_type": "markdown",
   "metadata": {},
   "source": [
    "### Conclusões - Educação\n",
    "\n",
    "À exceção do indicador de Taxas de Aprovação, as variáveis observadas tem formato aproximadamente de sino aparentemente bem distribuída ao redor da média – linha pontilhada em vermelho. \n",
    "\n",
    "Como um todo, observamos que:\n",
    "\n",
    "1. Os indicadores *deterioram-se* à medida em que se avança pelos níveis de educação\n",
    "\n",
    "A concentração de pontos desloca-se à esquerda do eixo x entre o Ensino Fundamental I e Ensino Médio.\n",
    "\n",
    "2. Ao observamos as caudas da distribuição por região – isto é, a contagem de escolas por região cujo desempenho seja superior a 90% ou inferior a 10% das demais do país –, notamos que as escolas de maior desempenho estão fortemente concentradas no eixo sul-sudeste, e as de menor desempenho, no eixo norte-nordeste.    \n",
    "\n",
    "Em alguns indicadores, a região norte sequer possui cidades de média suficientemente grande para que se enquadre no decil superior. Isto acontece mais frequentemente ao observarmos os dados referentes ao ensino básico.\n",
    "\n",
    "**Os gráficos utilizados na análise estão disponíveis no [Apêndice B.2](#2.-Dados-de-Educa%C3%A7%C3%A3o)**"
   ]
  },
  {
   "cell_type": "markdown",
   "metadata": {},
   "source": [
    "## Indicadores sociais"
   ]
  },
  {
   "cell_type": "markdown",
   "metadata": {},
   "source": [
    "### Visão geral\n",
    "\n",
    "As colunas do conjunto de indicadores sociais são todas numéricas e contínuas. Suas unidades de medida são\n",
    "\n",
    "| Variável  | Unidade de medida     | Observações     |\n",
    "| :-------- | --------------------- | ------------------ |\n",
    "| `populacao` | Número de indivíduos | Dados do Censo de 2010 |\n",
    "| `exp_vida`  | Média de anos | Esperança de vida ao nascer |\n",
    "| `analfabetismo` | Analfabetos por 1000 habitantes | Pessoas que de 15 anos ou mais que não sabem ler ou escrever ao menos um bilhete simples |\n",
    "| `tx_pobreza` | Percentual da população | Pessoas vivendo com menos de USD 5,5 PPC (paridade de poder de compra) por mês |\n",
    "| `pib_per_capita` | Milhares de BRL por habitante | Em BRL (2016) |\n",
    "| `mortalidade_inf` | Mortalidade de crianças por 1000 habitantes | Considera crianças que morreram antes de completar 1 ano de vida | \n",
    "| `maternidade_inf` | Percentual de meninas que tiveram filhos | Meninas de 10 a 14 anos de idade |"
   ]
  },
  {
   "cell_type": "markdown",
   "metadata": {},
   "source": [
    "### Conclusões - Indicadores sociais\n",
    "\n",
    "Os indicadores sociais apresentados servirão de variáveis de controle para a regressão. Antes que apresentemos qualificações sobre as regiões, é necessário frisar que os resultados apresentam certo viés que favorece as regiões Sul e Sudeste: como consideramos apenas as cidades que possuam ao menos 1 registro de teste de velocidade – e dada a concentração da infraestrutura de Internet nessa região –, existirão mais observações para cidades pertencentes a este eixo. Assim, os conclusões devem ser interpretadas com cautela.\n",
    "\n",
    "Em termos de indicadores, nota-se que o Sudeste, além de concentrar a maior população considerada, também concentra os melhores resultados em todos os indicadores considerados, e o Sul tem desempenho similar. As regiões Norte e Nordeste, por outro lado, encontram-se na situação oposta: seus resultados são todos inferiores às regiões anteriores. A isto certamente está associada a distribuição de riqueza per capita no país, que está diretamente correlacionada ao bom desempenho nestes indicadores. Como caso atípico ao padrão constatado, temos apenas a expectativa de vida: apesar de todas as disparidades pontuadas, a esperança de vida média é muito similar entre todas as regiões – e a amplitude de observações é menor que a das demais variáveis.\n",
    "\n",
    "**Os gráficos utilizados na análise estão disponíveis no [Apêndice B.3](#3.-Indicadores-Sociais)**"
   ]
  },
  {
   "cell_type": "markdown",
   "metadata": {},
   "source": [
    "### Correlações entre Internet e Educação\n",
    "\n",
    "Partimos da hipótese de que a maior prevalência de dispositivos em faixas superiores de velocidade de acesso à Internet contribui positivamente para indicadores educacionais, em especial aos que se referem ao Ensino Médio – dada a maior autonomia exigida dos estudantes deste nível. Assim, analisamos a matriz de correlações e constatamos que a relação entre variáveis de acesso à Internet e indicadores educacionais é muito pouco significativa – não há correlação absoluta que supere o patamar de **0.1** entre variáveis destes grupos. De fato, as correlações mais significativas são observadas apenas em variáveis intragrupais, conforme esperado.\n",
    "\n",
    "A seguir, respectivamente, a matriz de correlações e sua representação gráfica."
   ]
  },
  {
   "cell_type": "code",
   "execution_count": null,
   "metadata": {},
   "outputs": [],
   "source": [
    "exploratory_analysis.get_internet_education_corr(dataset)"
   ]
  },
  {
   "cell_type": "markdown",
   "metadata": {},
   "source": [
    "# Testes de hipótese"
   ]
  },
  {
   "cell_type": "markdown",
   "metadata": {},
   "source": [
    "## Diferenças entre taxas de aprovação por região\n",
    "\n",
    "Conduzimos uma série de Testes A/B a fim de determinar se há diferença estatística significativa entre taxas de aprovação – consideradas todos os níveis de educação – de escolas localizadas na região Sudeste se comparadas às escolas das demais regiões. Com base nos intervalos de confiança gerados, pode-se afirmar que\n",
    "\n",
    "* Existe evidência estatística de que as taxas de aprovação do Ensino Fundamental I e Ensino Médio do Sudeste são maiores do que as mesmas taxas de todas as demais regiões\n",
    "* Para o Ensino Fundamental II, há evidência significativa de que as taxas de aprovação de escolas do Sudeste superem todas as demais regiões, **exceto o Centro-Oeste**\n",
    "\n",
    "**Os intervalos de confiança para este teste estão disponíveis no [Apêndice C.1](#1.-Estat%C3%ADstica-do-Teste-A/B:-diferen%C3%A7as-entre-taxas-de-aprova%C3%A7%C3%A3o-por-estado)**"
   ]
  },
  {
   "cell_type": "markdown",
   "metadata": {},
   "source": [
    "## Diferenças entre taxas de aprovação de municípios pobres e ricos"
   ]
  },
  {
   "cell_type": "code",
   "execution_count": null,
   "metadata": {},
   "outputs": [],
   "source": []
  },
  {
   "cell_type": "markdown",
   "metadata": {},
   "source": [
    "## Diferenças entre taxas de aprovação entre municípios com menor e maior acesso à Internet de alta velocidade"
   ]
  },
  {
   "cell_type": "code",
   "execution_count": null,
   "metadata": {},
   "outputs": [],
   "source": []
  },
  {
   "cell_type": "markdown",
   "metadata": {},
   "source": [
    "# Regressões"
   ]
  },
  {
   "cell_type": "markdown",
   "metadata": {},
   "source": [
    "## Regressões univariadas"
   ]
  },
  {
   "cell_type": "code",
   "execution_count": null,
   "metadata": {},
   "outputs": [],
   "source": []
  },
  {
   "cell_type": "markdown",
   "metadata": {},
   "source": [
    "## Regressões multivariadas"
   ]
  },
  {
   "cell_type": "code",
   "execution_count": null,
   "metadata": {},
   "outputs": [],
   "source": []
  },
  {
   "cell_type": "markdown",
   "metadata": {},
   "source": [
    "# Conclusões"
   ]
  },
  {
   "cell_type": "code",
   "execution_count": null,
   "metadata": {},
   "outputs": [],
   "source": []
  },
  {
   "cell_type": "markdown",
   "metadata": {},
   "source": [
    "# Apêndices"
   ]
  },
  {
   "cell_type": "markdown",
   "metadata": {},
   "source": [
    "## A. Limpeza e manipulação das bases brutas"
   ]
  },
  {
   "cell_type": "code",
   "execution_count": null,
   "metadata": {},
   "outputs": [],
   "source": []
  },
  {
   "cell_type": "markdown",
   "metadata": {},
   "source": [
    "## B. Gráficos de análise exploratória"
   ]
  },
  {
   "cell_type": "markdown",
   "metadata": {},
   "source": [
    "### 1. Dados de Internet\n",
    "\n",
    "Clique [aqui](#Conclus%C3%B5es---Internet) para retornar à leitura."
   ]
  },
  {
   "cell_type": "markdown",
   "metadata": {},
   "source": [
    "#### Distribuição de dispositivos/habitante por faixa de velocidade, por região"
   ]
  },
  {
   "cell_type": "code",
   "execution_count": null,
   "metadata": {},
   "outputs": [],
   "source": [
    "exploratory_analysis.get_internet_plot(dataset, 'device_distribution')"
   ]
  },
  {
   "cell_type": "markdown",
   "metadata": {},
   "source": [
    "#### Distribuição da média de operadoras, por região"
   ]
  },
  {
   "cell_type": "code",
   "execution_count": null,
   "metadata": {},
   "outputs": [],
   "source": [
    "exploratory_analysis.get_internet_plot(dataset, 'isp_distribution')"
   ]
  },
  {
   "cell_type": "markdown",
   "metadata": {},
   "source": [
    "### 2. Dados de Educação\n",
    "\n",
    "Clique [aqui](#Conclus%C3%B5es---Educa%C3%A7%C3%A3o) para retornar à leitura."
   ]
  },
  {
   "cell_type": "markdown",
   "metadata": {},
   "source": [
    "#### IDEB"
   ]
  },
  {
   "cell_type": "code",
   "execution_count": null,
   "metadata": {},
   "outputs": [],
   "source": [
    "exploratory_analysis.get_education_plot(dataset, 'ideb')"
   ]
  },
  {
   "cell_type": "markdown",
   "metadata": {},
   "source": [
    "#### Taxas de aprovação"
   ]
  },
  {
   "cell_type": "code",
   "execution_count": null,
   "metadata": {},
   "outputs": [],
   "source": [
    "exploratory_analysis.get_education_plot(dataset, 'approval_rate')"
   ]
  },
  {
   "cell_type": "markdown",
   "metadata": {},
   "source": [
    "#### SAEB - Matemática"
   ]
  },
  {
   "cell_type": "code",
   "execution_count": null,
   "metadata": {},
   "outputs": [],
   "source": [
    "exploratory_analysis.get_education_plot(dataset, 'saeb_mat')"
   ]
  },
  {
   "cell_type": "markdown",
   "metadata": {},
   "source": [
    "#### SAEB - Língua Portuguesa"
   ]
  },
  {
   "cell_type": "code",
   "execution_count": null,
   "metadata": {},
   "outputs": [],
   "source": [
    "exploratory_analysis.get_education_plot(dataset, 'saeb_port')"
   ]
  },
  {
   "cell_type": "markdown",
   "metadata": {},
   "source": [
    "### 3. Indicadores Sociais\n",
    "\n",
    "Clique [aqui](#Conclus%C3%B5es---Indicadores-sociais) para retornar à leitura."
   ]
  },
  {
   "cell_type": "markdown",
   "metadata": {},
   "source": [
    "#### População por região"
   ]
  },
  {
   "cell_type": "code",
   "execution_count": null,
   "metadata": {},
   "outputs": [],
   "source": [
    "exploratory_analysis.get_social_plot(dataset, 'population')"
   ]
  },
  {
   "cell_type": "markdown",
   "metadata": {},
   "source": [
    "#### Expectativa de vida"
   ]
  },
  {
   "cell_type": "code",
   "execution_count": null,
   "metadata": {},
   "outputs": [],
   "source": [
    "exploratory_analysis.get_social_plot(dataset, 'life_expectancy')"
   ]
  },
  {
   "cell_type": "markdown",
   "metadata": {},
   "source": [
    "#### Analfabetismo"
   ]
  },
  {
   "cell_type": "code",
   "execution_count": null,
   "metadata": {},
   "outputs": [],
   "source": [
    "exploratory_analysis.get_social_plot(dataset, 'analfabetism')"
   ]
  },
  {
   "cell_type": "markdown",
   "metadata": {},
   "source": [
    "#### Taxa de pobreza"
   ]
  },
  {
   "cell_type": "code",
   "execution_count": null,
   "metadata": {},
   "outputs": [],
   "source": [
    "exploratory_analysis.get_social_plot(dataset, 'poverty')"
   ]
  },
  {
   "cell_type": "markdown",
   "metadata": {},
   "source": [
    "#### PIB per capita"
   ]
  },
  {
   "cell_type": "code",
   "execution_count": null,
   "metadata": {},
   "outputs": [],
   "source": [
    "exploratory_analysis.get_social_plot(dataset, 'gdp_per_capita')"
   ]
  },
  {
   "cell_type": "markdown",
   "metadata": {},
   "source": [
    "#### Mortalidade infantil"
   ]
  },
  {
   "cell_type": "code",
   "execution_count": null,
   "metadata": {},
   "outputs": [],
   "source": [
    "exploratory_analysis.get_social_plot(dataset, 'child_mortality')"
   ]
  },
  {
   "cell_type": "markdown",
   "metadata": {},
   "source": [
    "#### Gravidez na adolescência"
   ]
  },
  {
   "cell_type": "code",
   "execution_count": null,
   "metadata": {},
   "outputs": [],
   "source": [
    "exploratory_analysis.get_social_plot(dataset, 'adolescent_pregnancy')"
   ]
  },
  {
   "cell_type": "markdown",
   "metadata": {},
   "source": [
    "## C. Testes de Hipótese"
   ]
  },
  {
   "cell_type": "markdown",
   "metadata": {},
   "source": [
    "### 1. Estatística do Teste A/B: diferenças entre taxas de aprovação por estado\n",
    "\n",
    "Clique [aqui](#Diferen%C3%A7as-entre-taxas-de-aprova%C3%A7%C3%A3o-por-regi%C3%A3o) para voltar à leitura."
   ]
  },
  {
   "cell_type": "markdown",
   "metadata": {},
   "source": [
    "#### Ensino Fundamental I"
   ]
  },
  {
   "cell_type": "code",
   "execution_count": 45,
   "metadata": {},
   "outputs": [
    {
     "name": "stdout",
     "output_type": "stream",
     "text": [
      "Existe evidência de que a taxa de aprovação nos anos iniciais do ensino fundamental no Sudeste é maior do que no Centro-Oeste.\n",
      "Intervalos de confiança:\n",
      " Centro-Oeste\t\t [96.34818904397757, 96.98435812583394] \n",
      " Sudeste\t\t [97.25856433579618, 97.59221466016437] \n",
      "\n",
      "Existe evidência de que a taxa de aprovação nos anos iniciais do ensino fundamental no Sudeste é maior do que no Nordeste.\n",
      "Intervalos de confiança:\n",
      " Nordeste\t\t [90.10349360177604, 90.81179535213771] \n",
      " Sudeste\t\t [97.25856433579618, 97.59221466016437] \n",
      "\n",
      "Existe evidência de que a taxa de aprovação nos anos iniciais do ensino fundamental no Sudeste é maior do que no Norte.\n",
      "Intervalos de confiança:\n",
      " Norte\t\t [88.91512015834472, 90.62064626501292] \n",
      " Sudeste\t\t [97.25856433579618, 97.59221466016437] \n",
      "\n",
      "Existe evidência de que a taxa de aprovação nos anos iniciais do ensino fundamental no Sudeste é maior do que no Sul.\n",
      "Intervalos de confiança:\n",
      " Sul\t\t [95.21868220230202, 95.72711053463361] \n",
      " Sudeste\t\t [97.25856433579618, 97.59221466016437] \n",
      "\n"
     ]
    }
   ],
   "source": [
    "linear_regression.print_approval_rate_comparison(dataset, 'tx_aprov_ef_1')"
   ]
  },
  {
   "cell_type": "markdown",
   "metadata": {},
   "source": [
    "#### Ensino Fundamental II"
   ]
  },
  {
   "cell_type": "code",
   "execution_count": 46,
   "metadata": {},
   "outputs": [
    {
     "name": "stdout",
     "output_type": "stream",
     "text": [
      "Não existe evidência de que a taxa de aprovação nos anos finais do ensino fundamental no Sudeste é maior do que no Centro-Oeste.\n",
      "Intervalos de confiança:\n",
      " Centro-Oeste\t\t [92.37292559028768, 93.48716830642607] \n",
      " Sudeste\t\t [92.37974924299355, 92.89997425930984] \n",
      "\n",
      "Existe evidência de que a taxa de aprovação nos anos finais do ensino fundamental no Sudeste é maior do que no Nordeste.\n",
      "Intervalos de confiança:\n",
      " Nordeste\t\t [90.73241279371781, 91.45294591784919] \n",
      " Sudeste\t\t [92.37974924299355, 92.89997425930984] \n",
      "\n",
      "Existe evidência de que a taxa de aprovação nos anos finais do ensino fundamental no Sudeste é maior do que no Norte.\n",
      "Intervalos de confiança:\n",
      " Norte\t\t [89.1339487617496, 90.49059997471238] \n",
      " Sudeste\t\t [92.37974924299355, 92.89997425930984] \n",
      "\n",
      "Existe evidência de que a taxa de aprovação nos anos finais do ensino fundamental no Sudeste é maior do que no Sul.\n",
      "Intervalos de confiança:\n",
      " Sul\t\t [91.58414348282209, 92.1725466580232] \n",
      " Sudeste\t\t [92.37974924299355, 92.89997425930984] \n",
      "\n"
     ]
    }
   ],
   "source": [
    "linear_regression.print_approval_rate_comparison(dataset, 'tx_aprov_ef_2')"
   ]
  },
  {
   "cell_type": "markdown",
   "metadata": {},
   "source": [
    "#### Ensino Médio"
   ]
  },
  {
   "cell_type": "code",
   "execution_count": 47,
   "metadata": {},
   "outputs": [
    {
     "name": "stdout",
     "output_type": "stream",
     "text": [
      "Existe evidência de que a taxa de aprovação no ensino médio no Sudeste é maior do que no Centro-Oeste.\n",
      "Intervalos de confiança:\n",
      " Centro-Oeste\t\t [83.47058613060253, 85.58309557961132] \n",
      " Sudeste\t\t [88.38377258303939, 89.09042096534785] \n",
      "\n",
      "Existe evidência de que a taxa de aprovação no ensino médio no Sudeste é maior do que no Nordeste.\n",
      "Intervalos de confiança:\n",
      " Nordeste\t\t [84.37589254261596, 85.34355190182839] \n",
      " Sudeste\t\t [88.38377258303939, 89.09042096534785] \n",
      "\n",
      "Existe evidência de que a taxa de aprovação no ensino médio no Sudeste é maior do que no Norte.\n",
      "Intervalos de confiança:\n",
      " Norte\t\t [81.25064751829753, 83.04682540589017] \n",
      " Sudeste\t\t [88.38377258303939, 89.09042096534785] \n",
      "\n",
      "Existe evidência de que a taxa de aprovação no ensino médio no Sudeste é maior do que no Sul.\n",
      "Intervalos de confiança:\n",
      " Sul\t\t [83.8299580596733, 84.72316969363051] \n",
      " Sudeste\t\t [88.38377258303939, 89.09042096534785] \n",
      "\n"
     ]
    }
   ],
   "source": [
    "linear_regression.print_approval_rate_comparison(dataset, 'tx_aprov_em')"
   ]
  }
 ],
 "metadata": {
  "kernelspec": {
   "display_name": "Python 3",
   "language": "python",
   "name": "python3"
  },
  "language_info": {
   "codemirror_mode": {
    "name": "ipython",
    "version": 3
   },
   "file_extension": ".py",
   "mimetype": "text/x-python",
   "name": "python",
   "nbconvert_exporter": "python",
   "pygments_lexer": "ipython3",
   "version": "3.7.6"
  }
 },
 "nbformat": 4,
 "nbformat_minor": 4
}
